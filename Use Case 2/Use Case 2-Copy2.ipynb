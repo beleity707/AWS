{
 "cells": [
  {
   "cell_type": "code",
   "execution_count": null,
   "metadata": {
    "scrolled": true
   },
   "outputs": [],
   "source": [
    "#!pip install wordcloud\n",
    "#!pip install spacy\n",
    "#!pip install catboost\n"
   ]
  },
  {
   "cell_type": "code",
   "execution_count": 1,
   "metadata": {},
   "outputs": [
    {
     "name": "stderr",
     "output_type": "stream",
     "text": [
      "C:\\Users\\User\\Anaconda3\\lib\\site-packages\\gensim\\utils.py:1197: UserWarning: detected Windows; aliasing chunkize to chunkize_serial\n",
      "  warnings.warn(\"detected Windows; aliasing chunkize to chunkize_serial\")\n"
     ]
    }
   ],
   "source": [
    "# Dataframe\n",
    "import pandas as pd\n",
    "\n",
    "# Array\n",
    "import numpy as np\n",
    "#import itertools\n",
    "\n",
    "# Decompress the file\n",
    "import gzip\n",
    "\n",
    "# Visualizations\n",
    "import matplotlib.pyplot as plt\n",
    "from matplotlib.colors import ListedColormap\n",
    "import seaborn as sns\n",
    "import matplotlib.colors as colors\n",
    "%matplotlib inline\n",
    "from wordcloud import WordCloud, STOPWORDS\n",
    "\n",
    "# Datetime\n",
    "#from datetime import datetime\n",
    "\n",
    "# text preprocessing\n",
    "import spacy\n",
    "import nltk\n",
    "from nltk.corpus import stopwords\n",
    "from nltk.stem import PorterStemmer, WordNetLemmatizer\n",
    "from nltk.tokenize import word_tokenize, sent_tokenize, regexp_tokenize\n",
    "from nltk.tokenize import RegexpTokenizer\n",
    "from nltk.tokenize.toktok import ToktokTokenizer\n",
    "import gensim\n",
    "import re\n",
    "\n",
    "\n",
    "import unicodedata\n",
    "tokenizer = ToktokTokenizer()\n",
    "#spacy.load('en', parse=True, tag=True, entity=True)\n",
    "\n",
    "\n",
    "## Modeling\n",
    "from sklearn.model_selection import cross_validate, train_test_split, StratifiedKFold, GridSearchCV, cross_val_predict, cross_val_score\n",
    "from sklearn.linear_model import LogisticRegression\n",
    "#from sklearn.model_selection import learning_curve\n",
    "#from sklearn.ensemble import ExtraTreesClassifier\n",
    "#from sklearn.decomposition import TruncatedSVD\n",
    "from sklearn.feature_extraction.text import TfidfVectorizer, CountVectorizer, HashingVectorizer\n",
    "#from sklearn.pipeline import Pipeline\n",
    "#from sklearn.naive_bayes import MultinomialNB\n",
    "#from catboost import CatBoostClassifier, Pool\n",
    "#rom sklearn.naive_bayes import GaussianNB \n",
    "from sklearn.svm import SVC\n",
    "from sklearn import metrics\n",
    "from sklearn.metrics import classification_report\n",
    "from sklearn.metrics import confusion_matrix\n",
    "from  sklearn.metrics import precision_recall_fscore_support\n",
    "from sklearn.ensemble import RandomForestClassifier\n",
    "#from sklearn.tree import DecisionTreeClassifier\n",
    "from sklearn.metrics import f1_score\n",
    "from sklearn.metrics import recall_score\n",
    "from gensim.models import Word2Vec\n",
    "from tqdm import tqdm\n",
    "import xgboost as xgb\n",
    "#from xgboost import XGBClassifier\n",
    "#from sklearn.dummy import DummyClassifier\n",
    "\n",
    "## Warnings\n",
    "#import warnings\n",
    "#from scipy import stats\n",
    "#warnings.filterwarnings('ignore')"
   ]
  },
  {
   "cell_type": "code",
   "execution_count": null,
   "metadata": {},
   "outputs": [],
   "source": [
    "#nlp = spacy.load('en_core', parse=True, tag=True, entity=True)\n"
   ]
  },
  {
   "cell_type": "code",
   "execution_count": 2,
   "metadata": {},
   "outputs": [],
   "source": [
    "import os\n",
    "os.environ['KMP_DUPLICATE_LIB_OK']='True'"
   ]
  },
  {
   "cell_type": "code",
   "execution_count": 3,
   "metadata": {},
   "outputs": [
    {
     "name": "stderr",
     "output_type": "stream",
     "text": [
      "C:\\Users\\User\\Anaconda3\\lib\\site-packages\\IPython\\core\\interactiveshell.py:3063: DtypeWarning: Columns (1,10) have mixed types.Specify dtype option on import or set low_memory=False.\n",
      "  interactivity=interactivity, compiler=compiler, result=result)\n"
     ]
    }
   ],
   "source": [
    "location = 'E:/Amazon/Videos/04-04-2021/Use Case 2/archive/'\n",
    "df_All = pd.read_csv(location+'reviews.csv')\n"
   ]
  },
  {
   "cell_type": "code",
   "execution_count": 4,
   "metadata": {},
   "outputs": [],
   "source": [
    "pd.set_option('max_columns', None)\n",
    "pd.set_option('max_rows', None)\n"
   ]
  },
  {
   "cell_type": "code",
   "execution_count": 5,
   "metadata": {},
   "outputs": [
    {
     "data": {
      "text/html": [
       "<div>\n",
       "<style scoped>\n",
       "    .dataframe tbody tr th:only-of-type {\n",
       "        vertical-align: middle;\n",
       "    }\n",
       "\n",
       "    .dataframe tbody tr th {\n",
       "        vertical-align: top;\n",
       "    }\n",
       "\n",
       "    .dataframe thead th {\n",
       "        text-align: right;\n",
       "    }\n",
       "</style>\n",
       "<table border=\"1\" class=\"dataframe\">\n",
       "  <thead>\n",
       "    <tr style=\"text-align: right;\">\n",
       "      <th></th>\n",
       "      <th>id</th>\n",
       "      <th>name</th>\n",
       "      <th>asins</th>\n",
       "      <th>brand</th>\n",
       "      <th>categories</th>\n",
       "      <th>keys</th>\n",
       "      <th>manufacturer</th>\n",
       "      <th>reviews.date</th>\n",
       "      <th>reviews.dateAdded</th>\n",
       "      <th>reviews.dateSeen</th>\n",
       "      <th>reviews.didPurchase</th>\n",
       "      <th>reviews.doRecommend</th>\n",
       "      <th>reviews.id</th>\n",
       "      <th>reviews.numHelpful</th>\n",
       "      <th>reviews.rating</th>\n",
       "      <th>reviews.sourceURLs</th>\n",
       "      <th>reviews.text</th>\n",
       "      <th>reviews.title</th>\n",
       "      <th>reviews.userCity</th>\n",
       "      <th>reviews.userProvince</th>\n",
       "      <th>reviews.username</th>\n",
       "    </tr>\n",
       "  </thead>\n",
       "  <tbody>\n",
       "    <tr>\n",
       "      <th>0</th>\n",
       "      <td>AVqkIhwDv8e3D1O-lebb</td>\n",
       "      <td>All-New Fire HD 8 Tablet, 8 HD Display, Wi-Fi,...</td>\n",
       "      <td>B01AHB9CN2</td>\n",
       "      <td>Amazon</td>\n",
       "      <td>Electronics,iPad &amp; Tablets,All Tablets,Fire Ta...</td>\n",
       "      <td>841667104676,amazon/53004484,amazon/b01ahb9cn2...</td>\n",
       "      <td>Amazon</td>\n",
       "      <td>2017-01-13T00:00:00.000Z</td>\n",
       "      <td>2017-07-03T23:33:15Z</td>\n",
       "      <td>2017-06-07T09:04:00.000Z,2017-04-30T00:45:00.000Z</td>\n",
       "      <td>NaN</td>\n",
       "      <td>True</td>\n",
       "      <td>NaN</td>\n",
       "      <td>0.0</td>\n",
       "      <td>5.0</td>\n",
       "      <td>http://reviews.bestbuy.com/3545/5620406/review...</td>\n",
       "      <td>This product so far has not disappointed. My c...</td>\n",
       "      <td>Kindle</td>\n",
       "      <td>NaN</td>\n",
       "      <td>NaN</td>\n",
       "      <td>Adapter</td>\n",
       "    </tr>\n",
       "    <tr>\n",
       "      <th>1</th>\n",
       "      <td>AVqkIhwDv8e3D1O-lebb</td>\n",
       "      <td>All-New Fire HD 8 Tablet, 8 HD Display, Wi-Fi,...</td>\n",
       "      <td>B01AHB9CN2</td>\n",
       "      <td>Amazon</td>\n",
       "      <td>Electronics,iPad &amp; Tablets,All Tablets,Fire Ta...</td>\n",
       "      <td>841667104676,amazon/53004484,amazon/b01ahb9cn2...</td>\n",
       "      <td>Amazon</td>\n",
       "      <td>2017-01-13T00:00:00.000Z</td>\n",
       "      <td>2017-07-03T23:33:15Z</td>\n",
       "      <td>2017-06-07T09:04:00.000Z,2017-04-30T00:45:00.000Z</td>\n",
       "      <td>NaN</td>\n",
       "      <td>True</td>\n",
       "      <td>NaN</td>\n",
       "      <td>0.0</td>\n",
       "      <td>5.0</td>\n",
       "      <td>http://reviews.bestbuy.com/3545/5620406/review...</td>\n",
       "      <td>great for beginner or experienced person. Boug...</td>\n",
       "      <td>very fast</td>\n",
       "      <td>NaN</td>\n",
       "      <td>NaN</td>\n",
       "      <td>truman</td>\n",
       "    </tr>\n",
       "    <tr>\n",
       "      <th>2</th>\n",
       "      <td>AVqkIhwDv8e3D1O-lebb</td>\n",
       "      <td>All-New Fire HD 8 Tablet, 8 HD Display, Wi-Fi,...</td>\n",
       "      <td>B01AHB9CN2</td>\n",
       "      <td>Amazon</td>\n",
       "      <td>Electronics,iPad &amp; Tablets,All Tablets,Fire Ta...</td>\n",
       "      <td>841667104676,amazon/53004484,amazon/b01ahb9cn2...</td>\n",
       "      <td>Amazon</td>\n",
       "      <td>2017-01-13T00:00:00.000Z</td>\n",
       "      <td>2017-07-03T23:33:15Z</td>\n",
       "      <td>2017-06-07T09:04:00.000Z,2017-04-30T00:45:00.000Z</td>\n",
       "      <td>NaN</td>\n",
       "      <td>True</td>\n",
       "      <td>NaN</td>\n",
       "      <td>0.0</td>\n",
       "      <td>5.0</td>\n",
       "      <td>http://reviews.bestbuy.com/3545/5620406/review...</td>\n",
       "      <td>Inexpensive tablet for him to use and learn on...</td>\n",
       "      <td>Beginner tablet for our 9 year old son.</td>\n",
       "      <td>NaN</td>\n",
       "      <td>NaN</td>\n",
       "      <td>DaveZ</td>\n",
       "    </tr>\n",
       "  </tbody>\n",
       "</table>\n",
       "</div>"
      ],
      "text/plain": [
       "                     id                                               name  \\\n",
       "0  AVqkIhwDv8e3D1O-lebb  All-New Fire HD 8 Tablet, 8 HD Display, Wi-Fi,...   \n",
       "1  AVqkIhwDv8e3D1O-lebb  All-New Fire HD 8 Tablet, 8 HD Display, Wi-Fi,...   \n",
       "2  AVqkIhwDv8e3D1O-lebb  All-New Fire HD 8 Tablet, 8 HD Display, Wi-Fi,...   \n",
       "\n",
       "        asins   brand                                         categories  \\\n",
       "0  B01AHB9CN2  Amazon  Electronics,iPad & Tablets,All Tablets,Fire Ta...   \n",
       "1  B01AHB9CN2  Amazon  Electronics,iPad & Tablets,All Tablets,Fire Ta...   \n",
       "2  B01AHB9CN2  Amazon  Electronics,iPad & Tablets,All Tablets,Fire Ta...   \n",
       "\n",
       "                                                keys manufacturer  \\\n",
       "0  841667104676,amazon/53004484,amazon/b01ahb9cn2...       Amazon   \n",
       "1  841667104676,amazon/53004484,amazon/b01ahb9cn2...       Amazon   \n",
       "2  841667104676,amazon/53004484,amazon/b01ahb9cn2...       Amazon   \n",
       "\n",
       "               reviews.date     reviews.dateAdded  \\\n",
       "0  2017-01-13T00:00:00.000Z  2017-07-03T23:33:15Z   \n",
       "1  2017-01-13T00:00:00.000Z  2017-07-03T23:33:15Z   \n",
       "2  2017-01-13T00:00:00.000Z  2017-07-03T23:33:15Z   \n",
       "\n",
       "                                    reviews.dateSeen reviews.didPurchase  \\\n",
       "0  2017-06-07T09:04:00.000Z,2017-04-30T00:45:00.000Z                 NaN   \n",
       "1  2017-06-07T09:04:00.000Z,2017-04-30T00:45:00.000Z                 NaN   \n",
       "2  2017-06-07T09:04:00.000Z,2017-04-30T00:45:00.000Z                 NaN   \n",
       "\n",
       "  reviews.doRecommend  reviews.id  reviews.numHelpful  reviews.rating  \\\n",
       "0                True         NaN                 0.0             5.0   \n",
       "1                True         NaN                 0.0             5.0   \n",
       "2                True         NaN                 0.0             5.0   \n",
       "\n",
       "                                  reviews.sourceURLs  \\\n",
       "0  http://reviews.bestbuy.com/3545/5620406/review...   \n",
       "1  http://reviews.bestbuy.com/3545/5620406/review...   \n",
       "2  http://reviews.bestbuy.com/3545/5620406/review...   \n",
       "\n",
       "                                        reviews.text  \\\n",
       "0  This product so far has not disappointed. My c...   \n",
       "1  great for beginner or experienced person. Boug...   \n",
       "2  Inexpensive tablet for him to use and learn on...   \n",
       "\n",
       "                             reviews.title  reviews.userCity  \\\n",
       "0                                   Kindle               NaN   \n",
       "1                                very fast               NaN   \n",
       "2  Beginner tablet for our 9 year old son.               NaN   \n",
       "\n",
       "   reviews.userProvince reviews.username  \n",
       "0                   NaN          Adapter  \n",
       "1                   NaN           truman  \n",
       "2                   NaN            DaveZ  "
      ]
     },
     "execution_count": 5,
     "metadata": {},
     "output_type": "execute_result"
    }
   ],
   "source": [
    "df_All.head(3)"
   ]
  },
  {
   "cell_type": "code",
   "execution_count": 6,
   "metadata": {},
   "outputs": [
    {
     "name": "stdout",
     "output_type": "stream",
     "text": [
      "<class 'pandas.core.frame.DataFrame'>\n",
      "RangeIndex: 34660 entries, 0 to 34659\n",
      "Data columns (total 21 columns):\n",
      " #   Column                Non-Null Count  Dtype  \n",
      "---  ------                --------------  -----  \n",
      " 0   id                    34660 non-null  object \n",
      " 1   name                  27900 non-null  object \n",
      " 2   asins                 34658 non-null  object \n",
      " 3   brand                 34660 non-null  object \n",
      " 4   categories            34660 non-null  object \n",
      " 5   keys                  34660 non-null  object \n",
      " 6   manufacturer          34660 non-null  object \n",
      " 7   reviews.date          34621 non-null  object \n",
      " 8   reviews.dateAdded     24039 non-null  object \n",
      " 9   reviews.dateSeen      34660 non-null  object \n",
      " 10  reviews.didPurchase   1 non-null      object \n",
      " 11  reviews.doRecommend   34066 non-null  object \n",
      " 12  reviews.id            1 non-null      float64\n",
      " 13  reviews.numHelpful    34131 non-null  float64\n",
      " 14  reviews.rating        34627 non-null  float64\n",
      " 15  reviews.sourceURLs    34660 non-null  object \n",
      " 16  reviews.text          34659 non-null  object \n",
      " 17  reviews.title         34655 non-null  object \n",
      " 18  reviews.userCity      0 non-null      float64\n",
      " 19  reviews.userProvince  0 non-null      float64\n",
      " 20  reviews.username      34658 non-null  object \n",
      "dtypes: float64(5), object(16)\n",
      "memory usage: 5.6+ MB\n"
     ]
    }
   ],
   "source": [
    "df_All.info()"
   ]
  },
  {
   "cell_type": "code",
   "execution_count": 7,
   "metadata": {},
   "outputs": [],
   "source": [
    "df = df_All[['reviews.rating','reviews.text']]"
   ]
  },
  {
   "cell_type": "code",
   "execution_count": 8,
   "metadata": {},
   "outputs": [
    {
     "data": {
      "text/html": [
       "<div>\n",
       "<style scoped>\n",
       "    .dataframe tbody tr th:only-of-type {\n",
       "        vertical-align: middle;\n",
       "    }\n",
       "\n",
       "    .dataframe tbody tr th {\n",
       "        vertical-align: top;\n",
       "    }\n",
       "\n",
       "    .dataframe thead th {\n",
       "        text-align: right;\n",
       "    }\n",
       "</style>\n",
       "<table border=\"1\" class=\"dataframe\">\n",
       "  <thead>\n",
       "    <tr style=\"text-align: right;\">\n",
       "      <th></th>\n",
       "      <th>reviews.rating</th>\n",
       "      <th>reviews.text</th>\n",
       "    </tr>\n",
       "  </thead>\n",
       "  <tbody>\n",
       "    <tr>\n",
       "      <th>0</th>\n",
       "      <td>5.0</td>\n",
       "      <td>This product so far has not disappointed. My c...</td>\n",
       "    </tr>\n",
       "    <tr>\n",
       "      <th>1</th>\n",
       "      <td>5.0</td>\n",
       "      <td>great for beginner or experienced person. Boug...</td>\n",
       "    </tr>\n",
       "    <tr>\n",
       "      <th>2</th>\n",
       "      <td>5.0</td>\n",
       "      <td>Inexpensive tablet for him to use and learn on...</td>\n",
       "    </tr>\n",
       "    <tr>\n",
       "      <th>3</th>\n",
       "      <td>4.0</td>\n",
       "      <td>I've had my Fire HD 8 two weeks now and I love...</td>\n",
       "    </tr>\n",
       "    <tr>\n",
       "      <th>4</th>\n",
       "      <td>5.0</td>\n",
       "      <td>I bought this for my grand daughter when she c...</td>\n",
       "    </tr>\n",
       "  </tbody>\n",
       "</table>\n",
       "</div>"
      ],
      "text/plain": [
       "   reviews.rating                                       reviews.text\n",
       "0             5.0  This product so far has not disappointed. My c...\n",
       "1             5.0  great for beginner or experienced person. Boug...\n",
       "2             5.0  Inexpensive tablet for him to use and learn on...\n",
       "3             4.0  I've had my Fire HD 8 two weeks now and I love...\n",
       "4             5.0  I bought this for my grand daughter when she c..."
      ]
     },
     "execution_count": 8,
     "metadata": {},
     "output_type": "execute_result"
    }
   ],
   "source": [
    "#df.iloc[1:3, 0:2]\n",
    "df.head()"
   ]
  },
  {
   "cell_type": "code",
   "execution_count": 9,
   "metadata": {},
   "outputs": [
    {
     "data": {
      "text/plain": [
       "(34660, 2)"
      ]
     },
     "execution_count": 9,
     "metadata": {},
     "output_type": "execute_result"
    }
   ],
   "source": [
    "df.shape"
   ]
  },
  {
   "cell_type": "code",
   "execution_count": 10,
   "metadata": {
    "scrolled": true
   },
   "outputs": [
    {
     "data": {
      "text/plain": [
       "5.0    23775\n",
       "4.0     8541\n",
       "3.0     1499\n",
       "1.0      410\n",
       "2.0      402\n",
       "Name: reviews.rating, dtype: int64"
      ]
     },
     "execution_count": 10,
     "metadata": {},
     "output_type": "execute_result"
    }
   ],
   "source": [
    "df['reviews.rating'].value_counts()"
   ]
  },
  {
   "cell_type": "code",
   "execution_count": 11,
   "metadata": {},
   "outputs": [
    {
     "data": {
      "text/plain": [
       "reviews.rating    33\n",
       "reviews.text       1\n",
       "dtype: int64"
      ]
     },
     "execution_count": 11,
     "metadata": {},
     "output_type": "execute_result"
    }
   ],
   "source": [
    "df.isnull().sum()"
   ]
  },
  {
   "cell_type": "code",
   "execution_count": null,
   "metadata": {},
   "outputs": [],
   "source": [
    "#df = df[df['EPS'].notna()]\n",
    "#df[df.notna()].sum()\n"
   ]
  },
  {
   "cell_type": "code",
   "execution_count": 12,
   "metadata": {},
   "outputs": [],
   "source": [
    "df = df.dropna()"
   ]
  },
  {
   "cell_type": "code",
   "execution_count": 13,
   "metadata": {},
   "outputs": [
    {
     "data": {
      "text/plain": [
       "(34626, 2)"
      ]
     },
     "execution_count": 13,
     "metadata": {},
     "output_type": "execute_result"
    }
   ],
   "source": [
    "df.shape"
   ]
  },
  {
   "cell_type": "code",
   "execution_count": 14,
   "metadata": {},
   "outputs": [
    {
     "data": {
      "text/html": [
       "<div>\n",
       "<style scoped>\n",
       "    .dataframe tbody tr th:only-of-type {\n",
       "        vertical-align: middle;\n",
       "    }\n",
       "\n",
       "    .dataframe tbody tr th {\n",
       "        vertical-align: top;\n",
       "    }\n",
       "\n",
       "    .dataframe thead th {\n",
       "        text-align: right;\n",
       "    }\n",
       "</style>\n",
       "<table border=\"1\" class=\"dataframe\">\n",
       "  <thead>\n",
       "    <tr style=\"text-align: right;\">\n",
       "      <th></th>\n",
       "      <th>reviews.rating</th>\n",
       "      <th>reviews.text</th>\n",
       "    </tr>\n",
       "  </thead>\n",
       "  <tbody>\n",
       "    <tr>\n",
       "      <th>126</th>\n",
       "      <td>1.0</td>\n",
       "      <td>i Bought this around black friday for $60 hopi...</td>\n",
       "    </tr>\n",
       "  </tbody>\n",
       "</table>\n",
       "</div>"
      ],
      "text/plain": [
       "     reviews.rating                                       reviews.text\n",
       "126             1.0  i Bought this around black friday for $60 hopi..."
      ]
     },
     "execution_count": 14,
     "metadata": {},
     "output_type": "execute_result"
    }
   ],
   "source": [
    "df[df[\"reviews.rating\"] == 1][:1]\n"
   ]
  },
  {
   "cell_type": "code",
   "execution_count": 17,
   "metadata": {},
   "outputs": [],
   "source": [
    "#df.style.set_properties(subset=[\"reviews.rating\"], **{'width': '300px'})\n"
   ]
  },
  {
   "cell_type": "code",
   "execution_count": 18,
   "metadata": {},
   "outputs": [
    {
     "data": {
      "text/html": [
       "<style  type=\"text/css\" >\n",
       "    #T_202a6d8c_989d_11eb_96a3_507b9d7a3382row0_col0 {\n",
       "            width:  300px;\n",
       "        }    #T_202a6d8c_989d_11eb_96a3_507b9d7a3382row1_col0 {\n",
       "            width:  300px;\n",
       "        }</style><table id=\"T_202a6d8c_989d_11eb_96a3_507b9d7a3382\" ><thead>    <tr>        <th class=\"blank level0\" ></th>        <th class=\"col_heading level0 col0\" >reviews.rating</th>        <th class=\"col_heading level0 col1\" >reviews.text</th>    </tr></thead><tbody>\n",
       "                <tr>\n",
       "                        <th id=\"T_202a6d8c_989d_11eb_96a3_507b9d7a3382level0_row0\" class=\"row_heading level0 row0\" >126</th>\n",
       "                        <td id=\"T_202a6d8c_989d_11eb_96a3_507b9d7a3382row0_col0\" class=\"data row0 col0\" >1.000000</td>\n",
       "                        <td id=\"T_202a6d8c_989d_11eb_96a3_507b9d7a3382row0_col1\" class=\"data row0 col1\" >i Bought this around black friday for $60 hoping it would be awesome... it failed so hard i tried multiple different micro SD cards none of which were recognized and YES i formated them with every format i could think of ... Fat32, NTFS, Fat, Xfat... i even tried to have the tablet do it... didnt work... to make matters worse half the apps i wanted to use werent in the app store and i came to find out that it isnt linked to the normal google play store this tablet has its own app store which is missing many common apps... the main reason i bought this was to play clash of clans and i cant because it wasnt on the app store... i tried to also use aftermarket play stores to play COC but it didnt work... launched and played 1 time but didnt work or update after that... needless to say i returned it and bought a $250 samsung galaxy tab A 10.1 (2016 version) with S-pen and its WAYYYYY better... bottom line you get what you pay for... also hint the s-pen version has an extra 1 GB of ram over the non pen version... so you should get that if you can afford the extra $50...</td>\n",
       "            </tr>\n",
       "            <tr>\n",
       "                        <th id=\"T_202a6d8c_989d_11eb_96a3_507b9d7a3382level0_row1\" class=\"row_heading level0 row1\" >169</th>\n",
       "                        <td id=\"T_202a6d8c_989d_11eb_96a3_507b9d7a3382row1_col0\" class=\"data row1 col0\" >1.000000</td>\n",
       "                        <td id=\"T_202a6d8c_989d_11eb_96a3_507b9d7a3382row1_col1\" class=\"data row1 col1\" >I bought this tablet for my 4 year old daughter. Too many advertisements. I would rather pay more and not have a single ad.</td>\n",
       "            </tr>\n",
       "    </tbody></table>"
      ],
      "text/plain": [
       "<pandas.io.formats.style.Styler at 0x2a7e90e6c18>"
      ]
     },
     "execution_count": 18,
     "metadata": {},
     "output_type": "execute_result"
    }
   ],
   "source": [
    "df[df[\"reviews.rating\"] == 1][:2].style.set_properties(subset=[\"reviews.rating\"], **{'width': '300px'})"
   ]
  },
  {
   "cell_type": "code",
   "execution_count": 19,
   "metadata": {},
   "outputs": [
    {
     "data": {
      "text/html": [
       "<style  type=\"text/css\" >\n",
       "    #T_223df094_989d_11eb_8f80_507b9d7a3382row0_col0 {\n",
       "            width:  300px;\n",
       "        }    #T_223df094_989d_11eb_8f80_507b9d7a3382row1_col0 {\n",
       "            width:  300px;\n",
       "        }</style><table id=\"T_223df094_989d_11eb_8f80_507b9d7a3382\" ><thead>    <tr>        <th class=\"blank level0\" ></th>        <th class=\"col_heading level0 col0\" >reviews.rating</th>        <th class=\"col_heading level0 col1\" >reviews.text</th>    </tr></thead><tbody>\n",
       "                <tr>\n",
       "                        <th id=\"T_223df094_989d_11eb_8f80_507b9d7a3382level0_row0\" class=\"row_heading level0 row0\" >117</th>\n",
       "                        <td id=\"T_223df094_989d_11eb_8f80_507b9d7a3382row0_col0\" class=\"data row0 col0\" >2.000000</td>\n",
       "                        <td id=\"T_223df094_989d_11eb_8f80_507b9d7a3382row0_col1\" class=\"data row0 col1\" >Didn't have some of the features I was looking for. Returned it the next day. May be good for others</td>\n",
       "            </tr>\n",
       "            <tr>\n",
       "                        <th id=\"T_223df094_989d_11eb_8f80_507b9d7a3382level0_row1\" class=\"row_heading level0 row1\" >281</th>\n",
       "                        <td id=\"T_223df094_989d_11eb_8f80_507b9d7a3382row1_col0\" class=\"data row1 col0\" >2.000000</td>\n",
       "                        <td id=\"T_223df094_989d_11eb_8f80_507b9d7a3382row1_col1\" class=\"data row1 col1\" >Not a good product short battery life i can only use for 20 minutes</td>\n",
       "            </tr>\n",
       "    </tbody></table>"
      ],
      "text/plain": [
       "<pandas.io.formats.style.Styler at 0x2a7e1e290f0>"
      ]
     },
     "execution_count": 19,
     "metadata": {},
     "output_type": "execute_result"
    }
   ],
   "source": [
    "df[df[\"reviews.rating\"] == 2][:2].style.set_properties(subset=[\"reviews.rating\"], **{'width': '300px'})"
   ]
  },
  {
   "cell_type": "code",
   "execution_count": 20,
   "metadata": {
    "scrolled": true
   },
   "outputs": [
    {
     "data": {
      "text/html": [
       "<style  type=\"text/css\" >\n",
       "    #T_23382bca_989d_11eb_a2a6_507b9d7a3382row0_col0 {\n",
       "            width:  300px;\n",
       "        }    #T_23382bca_989d_11eb_a2a6_507b9d7a3382row1_col0 {\n",
       "            width:  300px;\n",
       "        }</style><table id=\"T_23382bca_989d_11eb_a2a6_507b9d7a3382\" ><thead>    <tr>        <th class=\"blank level0\" ></th>        <th class=\"col_heading level0 col0\" >reviews.rating</th>        <th class=\"col_heading level0 col1\" >reviews.text</th>    </tr></thead><tbody>\n",
       "                <tr>\n",
       "                        <th id=\"T_23382bca_989d_11eb_a2a6_507b9d7a3382level0_row0\" class=\"row_heading level0 row0\" >222</th>\n",
       "                        <td id=\"T_23382bca_989d_11eb_a2a6_507b9d7a3382row0_col0\" class=\"data row0 col0\" >3.000000</td>\n",
       "                        <td id=\"T_23382bca_989d_11eb_a2a6_507b9d7a3382row0_col1\" class=\"data row0 col1\" >I was hoping to use Google launcher with this tablet but it is really locked down and you cannot change the launcher or the lock screen. Still cheap and fine for watching movies.</td>\n",
       "            </tr>\n",
       "            <tr>\n",
       "                        <th id=\"T_23382bca_989d_11eb_a2a6_507b9d7a3382level0_row1\" class=\"row_heading level0 row1\" >226</th>\n",
       "                        <td id=\"T_23382bca_989d_11eb_a2a6_507b9d7a3382row1_col0\" class=\"data row1 col0\" >3.000000</td>\n",
       "                        <td id=\"T_23382bca_989d_11eb_a2a6_507b9d7a3382row1_col1\" class=\"data row1 col1\" >The tablet works fine. It is responsive with good resolution. It is too tied to Amazon. It requires too many hoops to get apps such as Zinio to work. Until Amazon loosens its grip, I recommend only at a very good price.</td>\n",
       "            </tr>\n",
       "    </tbody></table>"
      ],
      "text/plain": [
       "<pandas.io.formats.style.Styler at 0x2a7e90e6a90>"
      ]
     },
     "execution_count": 20,
     "metadata": {},
     "output_type": "execute_result"
    }
   ],
   "source": [
    "df[df[\"reviews.rating\"] == 3][:2].style.set_properties(subset=[\"reviews.rating\"], **{'width': '300px'})"
   ]
  },
  {
   "cell_type": "code",
   "execution_count": 21,
   "metadata": {},
   "outputs": [
    {
     "data": {
      "text/html": [
       "<style  type=\"text/css\" >\n",
       "    #T_24c68edc_989d_11eb_9ea3_507b9d7a3382row0_col0 {\n",
       "            width:  300px;\n",
       "        }    #T_24c68edc_989d_11eb_9ea3_507b9d7a3382row1_col0 {\n",
       "            width:  300px;\n",
       "        }</style><table id=\"T_24c68edc_989d_11eb_9ea3_507b9d7a3382\" ><thead>    <tr>        <th class=\"blank level0\" ></th>        <th class=\"col_heading level0 col0\" >reviews.rating</th>        <th class=\"col_heading level0 col1\" >reviews.text</th>    </tr></thead><tbody>\n",
       "                <tr>\n",
       "                        <th id=\"T_24c68edc_989d_11eb_9ea3_507b9d7a3382level0_row0\" class=\"row_heading level0 row0\" >3</th>\n",
       "                        <td id=\"T_24c68edc_989d_11eb_9ea3_507b9d7a3382row0_col0\" class=\"data row0 col0\" >4.000000</td>\n",
       "                        <td id=\"T_24c68edc_989d_11eb_9ea3_507b9d7a3382row0_col1\" class=\"data row0 col1\" >I've had my Fire HD 8 two weeks now and I love it. This tablet is a great value.We are Prime Members and that is where this tablet SHINES. I love being able to easily access all of the Prime content as well as movies you can download and watch laterThis has a 1280/800 screen which has some really nice look to it its nice and crisp and very bright infact it is brighter then the ipad pro costing $900 base model. The build on this fire is INSANELY AWESOME running at only 7.7mm thick and the smooth glossy feel on the back it is really amazing to hold its like the futuristic tab in ur hands.</td>\n",
       "            </tr>\n",
       "            <tr>\n",
       "                        <th id=\"T_24c68edc_989d_11eb_9ea3_507b9d7a3382level0_row1\" class=\"row_heading level0 row1\" >6</th>\n",
       "                        <td id=\"T_24c68edc_989d_11eb_9ea3_507b9d7a3382row1_col0\" class=\"data row1 col0\" >4.000000</td>\n",
       "                        <td id=\"T_24c68edc_989d_11eb_9ea3_507b9d7a3382row1_col1\" class=\"data row1 col1\" >Great for e-reading on the go, nice and light weight, and for the price point given, definitely worth the purchase.</td>\n",
       "            </tr>\n",
       "    </tbody></table>"
      ],
      "text/plain": [
       "<pandas.io.formats.style.Styler at 0x2a7e1e29a58>"
      ]
     },
     "execution_count": 21,
     "metadata": {},
     "output_type": "execute_result"
    }
   ],
   "source": [
    "df[df[\"reviews.rating\"] == 4][:2].style.set_properties(subset=[\"reviews.rating\"], **{'width': '300px'})"
   ]
  },
  {
   "cell_type": "code",
   "execution_count": 22,
   "metadata": {},
   "outputs": [
    {
     "data": {
      "text/html": [
       "<style  type=\"text/css\" >\n",
       "    #T_262314b0_989d_11eb_9aa1_507b9d7a3382row0_col0 {\n",
       "            width:  300px;\n",
       "        }    #T_262314b0_989d_11eb_9aa1_507b9d7a3382row1_col0 {\n",
       "            width:  300px;\n",
       "        }</style><table id=\"T_262314b0_989d_11eb_9aa1_507b9d7a3382\" ><thead>    <tr>        <th class=\"blank level0\" ></th>        <th class=\"col_heading level0 col0\" >reviews.rating</th>        <th class=\"col_heading level0 col1\" >reviews.text</th>    </tr></thead><tbody>\n",
       "                <tr>\n",
       "                        <th id=\"T_262314b0_989d_11eb_9aa1_507b9d7a3382level0_row0\" class=\"row_heading level0 row0\" >0</th>\n",
       "                        <td id=\"T_262314b0_989d_11eb_9aa1_507b9d7a3382row0_col0\" class=\"data row0 col0\" >5.000000</td>\n",
       "                        <td id=\"T_262314b0_989d_11eb_9aa1_507b9d7a3382row0_col1\" class=\"data row0 col1\" >This product so far has not disappointed. My children love to use it and I like the ability to monitor control what content they see with ease.</td>\n",
       "            </tr>\n",
       "            <tr>\n",
       "                        <th id=\"T_262314b0_989d_11eb_9aa1_507b9d7a3382level0_row1\" class=\"row_heading level0 row1\" >1</th>\n",
       "                        <td id=\"T_262314b0_989d_11eb_9aa1_507b9d7a3382row1_col0\" class=\"data row1 col0\" >5.000000</td>\n",
       "                        <td id=\"T_262314b0_989d_11eb_9aa1_507b9d7a3382row1_col1\" class=\"data row1 col1\" >great for beginner or experienced person. Bought as a gift and she loves it</td>\n",
       "            </tr>\n",
       "    </tbody></table>"
      ],
      "text/plain": [
       "<pandas.io.formats.style.Styler at 0x2a7e91ae5c0>"
      ]
     },
     "execution_count": 22,
     "metadata": {},
     "output_type": "execute_result"
    }
   ],
   "source": [
    "df[df[\"reviews.rating\"] == 5][:2].style.set_properties(subset=[\"reviews.rating\"], **{'width': '300px'})"
   ]
  },
  {
   "cell_type": "markdown",
   "metadata": {},
   "source": [
    "Based on the examples that we have reviewed it seeems that reviews ratings 1,2,3 are negative while 4,5 are positive."
   ]
  },
  {
   "cell_type": "code",
   "execution_count": 15,
   "metadata": {},
   "outputs": [
    {
     "data": {
      "text/plain": [
       "5.0    23774\n",
       "4.0     8541\n",
       "3.0     1499\n",
       "1.0      410\n",
       "2.0      402\n",
       "Name: reviews.rating, dtype: int64"
      ]
     },
     "execution_count": 15,
     "metadata": {},
     "output_type": "execute_result"
    }
   ],
   "source": [
    "df['reviews.rating'].value_counts()"
   ]
  },
  {
   "cell_type": "code",
   "execution_count": 16,
   "metadata": {},
   "outputs": [
    {
     "name": "stdout",
     "output_type": "stream",
     "text": [
      "positive  32315\n",
      "negative  2311\n"
     ]
    }
   ],
   "source": [
    "print ('positive ', len (df[df[\"reviews.rating\"].isin([4,5])]))\n",
    "print ('negative ', len (df[df[\"reviews.rating\"].isin([1,2,3])]))\n"
   ]
  },
  {
   "cell_type": "markdown",
   "metadata": {},
   "source": [
    "We will create a new column to reflect positive and negative "
   ]
  },
  {
   "cell_type": "code",
   "execution_count": 17,
   "metadata": {},
   "outputs": [
    {
     "name": "stdout",
     "output_type": "stream",
     "text": [
      "{5: 1, 4: 1, 3: 0, 2: 0, 1: 0}\n"
     ]
    }
   ],
   "source": [
    "# will remap the values\n",
    "dict = {5 :1 ,4 : 1, 3 : 0, 2 : 0, 1 : 0}\n",
    "\n",
    "# Print the dictionary\n",
    "print(dict)\n",
    "\n"
   ]
  },
  {
   "cell_type": "code",
   "execution_count": 18,
   "metadata": {},
   "outputs": [],
   "source": [
    "# Remap the values of the dataframe\n",
    "df = df.replace({\"reviews.rating\": dict})\n"
   ]
  },
  {
   "cell_type": "code",
   "execution_count": 19,
   "metadata": {},
   "outputs": [
    {
     "data": {
      "text/plain": [
       "1.0    32315\n",
       "0.0     2311\n",
       "Name: reviews.rating, dtype: int64"
      ]
     },
     "execution_count": 19,
     "metadata": {},
     "output_type": "execute_result"
    }
   ],
   "source": [
    "df['reviews.rating'].value_counts()"
   ]
  },
  {
   "cell_type": "markdown",
   "metadata": {},
   "source": [
    "<b>Observation<br> </b>\n",
    "\n",
    "We observed that the data is imbalanced, to solve this problem we should consider the following:\n",
    "    - We should consider using Stratified Kfolds in our models\n",
    "    - We can use SMOTE for both up and down sampling\n",
    "    \n",
    "We will use both approaches in our models"
   ]
  },
  {
   "cell_type": "code",
   "execution_count": 20,
   "metadata": {},
   "outputs": [
    {
     "name": "stdout",
     "output_type": "stream",
     "text": [
      "<class 'pandas.core.frame.DataFrame'>\n",
      "Int64Index: 34626 entries, 0 to 34659\n",
      "Data columns (total 2 columns):\n",
      " #   Column          Non-Null Count  Dtype  \n",
      "---  ------          --------------  -----  \n",
      " 0   reviews.rating  34626 non-null  float64\n",
      " 1   reviews.text    34626 non-null  object \n",
      "dtypes: float64(1), object(1)\n",
      "memory usage: 811.5+ KB\n"
     ]
    }
   ],
   "source": [
    "df.info()"
   ]
  },
  {
   "cell_type": "code",
   "execution_count": 21,
   "metadata": {
    "scrolled": false
   },
   "outputs": [
    {
     "data": {
      "text/plain": [
       "reviews.rating    0\n",
       "reviews.text      0\n",
       "dtype: int64"
      ]
     },
     "execution_count": 21,
     "metadata": {},
     "output_type": "execute_result"
    }
   ],
   "source": [
    "df.isnull().sum()"
   ]
  },
  {
   "cell_type": "code",
   "execution_count": 22,
   "metadata": {},
   "outputs": [
    {
     "name": "stdout",
     "output_type": "stream",
     "text": [
      "        len:  25969\n",
      "7741     My daughter is six years old, and she enjoying...\n",
      "30131    I'm so happy with my purchase! Very easy to in...\n",
      "25824    have set it up to control various devices and ...\n",
      "29439    I love everything about it.... it is portable,...\n",
      "6833     This was a great purchase i do not regret buyi...\n",
      "Name: reviews.text, dtype: object\n",
      "7741     1.0\n",
      "30131    1.0\n",
      "25824    1.0\n",
      "29439    1.0\n",
      "6833     1.0\n",
      "Name: reviews.rating, dtype: float64\n"
     ]
    }
   ],
   "source": [
    "#Randomly split the data into a test and train datasets \n",
    "from sklearn.model_selection import train_test_split\n",
    "\n",
    "train, test, train_labels, test_labels = train_test_split (df[\"reviews.text\"],                   \n",
    "                                                 df['reviews.rating'],\n",
    "                                                 test_size=0.25,                                                                   \n",
    "                                                 random_state=0)\n",
    "\n",
    "print ('        len: ' , len(train))\n",
    "print (train[:5])\n",
    "print (train_labels[:5])"
   ]
  },
  {
   "cell_type": "code",
   "execution_count": null,
   "metadata": {},
   "outputs": [],
   "source": []
  },
  {
   "cell_type": "code",
   "execution_count": null,
   "metadata": {},
   "outputs": [],
   "source": []
  },
  {
   "cell_type": "code",
   "execution_count": 25,
   "metadata": {
    "scrolled": true
   },
   "outputs": [],
   "source": [
    "#It is important to note that the CountVectorizer performs lowercasing by default. \n",
    "vectorizer = CountVectorizer()#.fit(train)\n"
   ]
  },
  {
   "cell_type": "code",
   "execution_count": 26,
   "metadata": {},
   "outputs": [
    {
     "data": {
      "text/plain": [
       "<25969x12223 sparse matrix of type '<class 'numpy.int64'>'\n",
       "\twith 610311 stored elements in Compressed Sparse Row format>"
      ]
     },
     "execution_count": 26,
     "metadata": {},
     "output_type": "execute_result"
    }
   ],
   "source": [
    "train_vectorized = vectorizer.fit_transform(train)\n",
    "train_vectorized"
   ]
  },
  {
   "cell_type": "code",
   "execution_count": 27,
   "metadata": {},
   "outputs": [
    {
     "data": {
      "text/plain": [
       "<8657x7471 sparse matrix of type '<class 'numpy.int64'>'\n",
       "\twith 203494 stored elements in Compressed Sparse Row format>"
      ]
     },
     "execution_count": 27,
     "metadata": {},
     "output_type": "execute_result"
    }
   ],
   "source": [
    "test_vectorized = vectorizer.fit_transform(test)\n",
    "test_vectorized"
   ]
  },
  {
   "cell_type": "code",
   "execution_count": 28,
   "metadata": {},
   "outputs": [],
   "source": [
    "def confusion_mat(predictions, labels):\n",
    "    \"\"\"\n",
    "    predictor : Predictor object of model\n",
    "    features: Input features to model\n",
    "    label: Ground truth target values\n",
    "    \"\"\"\n",
    "\n",
    "    accuracy = (predictions == labels).sum() / labels.shape[0]\n",
    "    print(f'Accuracy: {accuracy}')\n",
    "    \n",
    "    precision, recall, f1_score, _ = precision_recall_fscore_support(labels, predictions, average = 'binary')\n",
    "    print(f'Precision: {precision}')\n",
    "    print(f'Recall: {recall}')\n",
    "    print(f'F1_score: {f1_score}')\n",
    "    \n",
    "    confusion_matrix = pd.crosstab(index=labels, columns=predictions, rownames=['Actual'], colnames=['Predicted']).astype(int)\n",
    "    sns.heatmap(confusion_matrix, annot=True, fmt='.0f', cmap=\"YlGnBu\").set_title('Confusion Matrix')\n"
   ]
  },
  {
   "cell_type": "code",
   "execution_count": 29,
   "metadata": {},
   "outputs": [],
   "source": [
    "#Load libraries needed for classification \n",
    "from sklearn import naive_bayes\n",
    "from sklearn import metrics"
   ]
  },
  {
   "cell_type": "code",
   "execution_count": 30,
   "metadata": {},
   "outputs": [
    {
     "name": "stdout",
     "output_type": "stream",
     "text": [
      "accuracy = 94.69752397088837%\n"
     ]
    }
   ],
   "source": [
    "#create a naive bayes classifier with Train Data\n",
    "clfr = naive_bayes.MultinomialNB()\n",
    "clfr.fit(train_vectorized,train_labels)\n",
    "predicted = clfr.predict(train_vectorized)\n",
    "\n",
    "acc = metrics.accuracy_score(train_labels,predicted)\n",
    "print ('accuracy = '+str(acc*100)+'%')\n",
    "\n",
    "#print (metrics.classification_report(test_labels,predicted))"
   ]
  },
  {
   "cell_type": "code",
   "execution_count": 31,
   "metadata": {},
   "outputs": [
    {
     "name": "stdout",
     "output_type": "stream",
     "text": [
      "Accuracy: 0.9469752397088836\n",
      "Precision: 0.9643161958951433\n",
      "Recall: 0.9794022950548997\n",
      "F1_score: 0.971800700374762\n"
     ]
    },
    {
     "data": {
      "image/png": "[encoded data removed]",
      "text/plain": [
       "<Figure size 432x288 with 2 Axes>"
      ]
     },
     "metadata": {
      "needs_background": "light"
     },
     "output_type": "display_data"
    }
   ],
   "source": [
    "confusion_mat(predicted, train_labels)"
   ]
  },
  {
   "cell_type": "code",
   "execution_count": 34,
   "metadata": {},
   "outputs": [
    {
     "name": "stdout",
     "output_type": "stream",
     "text": [
      "accuracy = 95.22929421277578%\n"
     ]
    }
   ],
   "source": [
    "#create a naive bayes classifier with Test Data\n",
    "clfr = naive_bayes.MultinomialNB()\n",
    "clfr.fit(test_vectorized,test_labels)\n",
    "predicted = clfr.predict(test_vectorized)\n",
    "\n",
    "acc = metrics.accuracy_score(test_labels,predicted)\n",
    "print ('accuracy = '+str(acc*100)+'%')\n",
    "\n",
    "#print (metrics.classification_report(test_labels,predicted))"
   ]
  },
  {
   "cell_type": "code",
   "execution_count": 35,
   "metadata": {},
   "outputs": [
    {
     "name": "stdout",
     "output_type": "stream",
     "text": [
      "Accuracy: 0.9522929421277578\n",
      "Precision: 0.9599712368168744\n",
      "Recall: 0.9902336506366671\n",
      "F1_score: 0.9748676443741252\n"
     ]
    },
    {
     "data": {
      "image/png": "[encoded data removed]",
      "text/plain": [
       "<Figure size 432x288 with 2 Axes>"
      ]
     },
     "metadata": {
      "needs_background": "light"
     },
     "output_type": "display_data"
    }
   ],
   "source": [
    "confusion_mat(predicted, test_labels)"
   ]
  },
  {
   "cell_type": "code",
   "execution_count": 51,
   "metadata": {},
   "outputs": [],
   "source": [
    "\n"
   ]
  },
  {
   "cell_type": "code",
   "execution_count": 60,
   "metadata": {},
   "outputs": [],
   "source": [
    "SM = SMOTE(random_state=5)\n",
    "Over_train,Over_train_labels= SM.fit_resample(train_vectorized,train_labels)\n"
   ]
  },
  {
   "cell_type": "code",
   "execution_count": 61,
   "metadata": {},
   "outputs": [
    {
     "name": "stdout",
     "output_type": "stream",
     "text": [
      "accuracy = 93.28201106249485%\n"
     ]
    }
   ],
   "source": [
    "#create a naive bayes classifier with Train Data\n",
    "clfr = naive_bayes.MultinomialNB()\n",
    "clfr.fit(Over_train,Over_train_labels)\n",
    "predicted = clfr.predict(Over_train)\n",
    "\n",
    "acc = metrics.accuracy_score(Over_train_labels,predicted)\n",
    "print ('accuracy = '+str(acc*100)+'%')\n",
    "\n",
    "#print (metrics.classification_report(test_labels,predicted))"
   ]
  },
  {
   "cell_type": "code",
   "execution_count": null,
   "metadata": {},
   "outputs": [],
   "source": [
    "confusion_mat(predicted, train_labels)"
   ]
  },
  {
   "cell_type": "code",
   "execution_count": null,
   "metadata": {},
   "outputs": [],
   "source": []
  },
  {
   "cell_type": "code",
   "execution_count": null,
   "metadata": {},
   "outputs": [],
   "source": []
  },
  {
   "cell_type": "code",
   "execution_count": null,
   "metadata": {},
   "outputs": [],
   "source": []
  },
  {
   "cell_type": "markdown",
   "metadata": {},
   "source": [
    "### Experimenting with  some pre-processing "
   ]
  },
  {
   "cell_type": "code",
   "execution_count": 39,
   "metadata": {},
   "outputs": [
    {
     "name": "stdout",
     "output_type": "stream",
     "text": [
      "7471\n"
     ]
    }
   ],
   "source": [
    "# Reducing the number of features & making stopwords removal\n",
    "count_vec = CountVectorizer(min_df=3, stop_words='english')#.fit(train)\n",
    "print (len(vectorizer.get_feature_names()))\n",
    "#train()"
   ]
  },
  {
   "cell_type": "code",
   "execution_count": null,
   "metadata": {},
   "outputs": [],
   "source": []
  },
  {
   "cell_type": "code",
   "execution_count": 40,
   "metadata": {},
   "outputs": [],
   "source": [
    "from sklearn.metrics import make_scorer, accuracy_score, precision_score, recall_score, f1_score\n",
    "from sklearn.model_selection import StratifiedKFold\n",
    "scoring = {'accuracy' : make_scorer(accuracy_score), \n",
    "           'precision' : make_scorer(precision_score),\n",
    "           'recall' : make_scorer(recall_score), \n",
    "           'f1_score' : make_scorer(f1_score)}\n",
    "\n",
    "#kfold = model_selection.KFold(n_splits=10, random_state=42)\n",
    "kfold = StratifiedKFold(n_splits=10,shuffle=True, random_state=42)\n",
    "\n",
    "\n",
    "#model=RandomForestClassifier(n_estimators=50) \n",
    "\n",
    "results = cross_validate (estimator=clfr,\n",
    "                                          X=train_vectorized,\n",
    "                                          y=train_labels,\n",
    "                                          cv=kfold,\n",
    "                                          scoring=scoring)\n"
   ]
  },
  {
   "cell_type": "code",
   "execution_count": 41,
   "metadata": {},
   "outputs": [
    {
     "data": {
      "text/plain": [
       "{'fit_time': array([0.01595545, 0.01598787, 0.01795459, 0.01695299, 0.01595664,\n",
       "        0.01795387, 0.01496196, 0.01695514, 0.01496124, 0.01396227]),\n",
       " 'score_time': array([0.00797796, 0.0089438 , 0.0109694 , 0.00997353, 0.00897765,\n",
       "        0.01096964, 0.00797653, 0.00997305, 0.00698137, 0.0079782 ]),\n",
       " 'test_accuracy': array([0.93993069, 0.93415479, 0.93068926, 0.92760878, 0.93299961,\n",
       "        0.93107432, 0.92414324, 0.9322295 , 0.93646515, 0.93451464]),\n",
       " 'test_precision': array([0.96058513, 0.95884271, 0.95276544, 0.95482295, 0.95544755,\n",
       "        0.95169082, 0.95168494, 0.95428803, 0.95522388, 0.95623987]),\n",
       " 'test_recall': array([0.97565002, 0.97111019, 0.97399917, 0.96822121, 0.97358646,\n",
       "        0.97565002, 0.96779521, 0.97398844, 0.97770438, 0.97440132]),\n",
       " 'test_f1_score': array([0.96805897, 0.96493746, 0.96326531, 0.96147541, 0.96443173,\n",
       "        0.9635215 , 0.95967247, 0.9640376 , 0.9663334 , 0.96523517])}"
      ]
     },
     "execution_count": 41,
     "metadata": {},
     "output_type": "execute_result"
    }
   ],
   "source": [
    "results"
   ]
  },
  {
   "cell_type": "code",
   "execution_count": 71,
   "metadata": {},
   "outputs": [],
   "source": [
    "SM = SMOTE(random_state=5)\n",
    "Over_train,Over_train_labels= SM.fit_resample(train_vectorized,train_labels)\n"
   ]
  },
  {
   "cell_type": "code",
   "execution_count": 72,
   "metadata": {},
   "outputs": [],
   "source": [
    "from sklearn.metrics import make_scorer, accuracy_score, precision_score, recall_score, f1_score\n",
    "from sklearn.model_selection import StratifiedKFold\n",
    "scoring = {'accuracy' : make_scorer(accuracy_score), \n",
    "           'precision' : make_scorer(precision_score),\n",
    "           'recall' : make_scorer(recall_score), \n",
    "           'f1_score' : make_scorer(f1_score)}\n",
    "\n",
    "#kfold = model_selection.KFold(n_splits=10, random_state=42)\n",
    "kfold = StratifiedKFold(n_splits=10,shuffle=True, random_state=42)\n",
    "\n",
    "\n",
    "#model=RandomForestClassifier(n_estimators=50) \n",
    "\n",
    "results = cross_validate (estimator=clfr,\n",
    "                                          X=Over_train,\n",
    "                                          y=Over_train_labels,\n",
    "                                          cv=kfold,\n",
    "                                          scoring=scoring)\n"
   ]
  },
  {
   "cell_type": "code",
   "execution_count": 73,
   "metadata": {},
   "outputs": [
    {
     "data": {
      "text/plain": [
       "{'fit_time': array([0.03590274, 0.03590417, 0.03390765, 0.03390908, 0.03091693,\n",
       "        0.03091669, 0.02992201, 0.03091955, 0.03095031, 0.03091669]),\n",
       " 'score_time': array([0.01296568, 0.0169549 , 0.01196837, 0.01196909, 0.01197052,\n",
       "        0.01196837, 0.01196742, 0.01199889, 0.01193619, 0.01296568]),\n",
       " 'test_accuracy': array([0.92137846, 0.92860091, 0.92383901, 0.92321981, 0.92156863,\n",
       "        0.92590299, 0.8623323 , 0.85737874, 0.86460268, 0.8627451 ]),\n",
       " 'test_precision': array([0.90872698, 0.90966469, 0.90306122, 0.90231463, 0.90264091,\n",
       "        0.90758294, 0.80974232, 0.80464625, 0.81135402, 0.81319073]),\n",
       " 'test_recall': array([0.93685514, 0.95171275, 0.9496492 , 0.94923648, 0.94510937,\n",
       "        0.94841106, 0.94715111, 0.94384806, 0.95004129, 0.94178365]),\n",
       " 'test_f1_score': array([0.92257671, 0.9302138 , 0.92576946, 0.92518101, 0.9233871 ,\n",
       "        0.92754793, 0.87307326, 0.86870606, 0.87523773, 0.87277597])}"
      ]
     },
     "execution_count": 73,
     "metadata": {},
     "output_type": "execute_result"
    }
   ],
   "source": [
    "results"
   ]
  },
  {
   "cell_type": "code",
   "execution_count": 74,
   "metadata": {},
   "outputs": [
    {
     "name": "stdout",
     "output_type": "stream",
     "text": [
      "List of possible accuracy: 89.91568631710129\n",
      "List of possible precision: 86.72924710929217\n",
      "List of possible recall: 94.63798111478458\n",
      "List of possible f1: 89.91568631710129\n"
     ]
    }
   ],
   "source": [
    "print('List of possible accuracy:', np.mean(results['test_accuracy'])*100)\n",
    "print('List of possible precision:', np.mean(results['test_precision'])*100)\n",
    "print('List of possible recall:', np.mean(results['test_recall'])*100)\n",
    "print('List of possible f1:', np.mean(results['test_accuracy'])*100)\n",
    "\n",
    "\n"
   ]
  },
  {
   "cell_type": "code",
   "execution_count": null,
   "metadata": {},
   "outputs": [],
   "source": []
  },
  {
   "cell_type": "code",
   "execution_count": 42,
   "metadata": {},
   "outputs": [
    {
     "name": "stdout",
     "output_type": "stream",
     "text": [
      "List of possible accuracy: 93.23809978682289\n",
      "List of possible precision: 95.51591315440413\n",
      "List of possible recall: 97.32106433903279\n",
      "List of possible f1: 93.23809978682289\n"
     ]
    }
   ],
   "source": [
    "# https://stackoverflow.com/questions/46598301/how-to-compute-precision-recall-and-f1-score-of-an-imbalanced-dataset-for-k-fold\n",
    "\n",
    "# Print the output.\n",
    "print('List of possible accuracy:', np.mean(results['test_accuracy'])*100)\n",
    "print('List of possible precision:', np.mean(results['test_precision'])*100)\n",
    "print('List of possible recall:', np.mean(results['test_recall'])*100)\n",
    "print('List of possible f1:', np.mean(results['test_accuracy'])*100)\n",
    "\n",
    "\n"
   ]
  },
  {
   "cell_type": "code",
   "execution_count": null,
   "metadata": {},
   "outputs": [],
   "source": []
  },
  {
   "cell_type": "code",
   "execution_count": null,
   "metadata": {},
   "outputs": [],
   "source": []
  },
  {
   "cell_type": "code",
   "execution_count": null,
   "metadata": {},
   "outputs": [],
   "source": []
  },
  {
   "cell_type": "code",
   "execution_count": null,
   "metadata": {
    "scrolled": true
   },
   "outputs": [],
   "source": [
    "#from colorama import Fore, Back, Style\n",
    "#print(Fore.WHITE + 'some red text')\n",
    "#print(Back.YELLOW + 'and with a green background')\n",
    "#print(Style.BRIGHT + 'and in dim text')\n",
    "#print(Style.RESET_ALL)\n",
    "#print('back to normal now')\n"
   ]
  },
  {
   "cell_type": "code",
   "execution_count": null,
   "metadata": {},
   "outputs": [],
   "source": [
    "#class color:\n",
    "#   PURPLE = '\\033[95m'\n",
    "#   CYAN = '\\033[96m'\n",
    "#   DARKCYAN = '\\033[36m'\n",
    "#   BLUE = '\\033[94m'\n",
    "#   GREEN = '\\033[92m'\n",
    "#   YELLOW = '\\033[93m'\n",
    "#   RED = '\\033[91m'\n",
    "#   BOLD = '\\033[1m'\n",
    "#   UNDERLINE = '\\033[4m'\n",
    "#   END = '\\033[0m'\n",
    "\n",
    "#print(color.BOLD +Back.YELLOW + 'Hello World !' + color.END)"
   ]
  },
  {
   "cell_type": "code",
   "execution_count": 75,
   "metadata": {},
   "outputs": [],
   "source": [
    "from sklearn.metrics import make_scorer, accuracy_score, precision_score, recall_score, f1_score, confusion_matrix , classification_report\n",
    "from sklearn.model_selection import StratifiedKFold\n",
    "from colorama import Fore, Back, Style\n",
    "from imblearn.over_sampling import SMOTE\n",
    "from imblearn.under_sampling import RandomUnderSampler\n",
    "\n",
    "\n",
    "class color:\n",
    "   PURPLE = '\\033[95m'\n",
    "   CYAN = '\\033[96m'\n",
    "   DARKCYAN = '\\033[36m'\n",
    "   BLUE = '\\033[94m'\n",
    "   GREEN = '\\033[92m'\n",
    "   YELLOW = '\\033[93m'\n",
    "   RED = '\\033[91m'\n",
    "   BOLD = '\\033[1m'\n",
    "   UNDERLINE = '\\033[4m'\n",
    "   END = '\\033[0m'\n",
    "\n",
    "\n",
    "\n",
    "\n",
    "#kfold = model_selection.KFold(n_splits=10, random_state=42)\n",
    "kfold = StratifiedKFold(n_splits=10,shuffle=True, random_state=42)\n",
    "\n",
    "\n",
    "\n",
    "def acc_calc(vectorizer,model):\n",
    "    \n",
    "\n",
    "    train_vectorized = vectorizer.fit_transform(train)\n",
    "    test_vectorized = vectorizer.fit_transform(test)\n",
    "\n",
    "    \n",
    "    def samples(train_set,train_set_labels):\n",
    "        \n",
    "        ### The train evaluation\n",
    "        print(color.BOLD +Fore.WHITE+Back.BLUE + '\\nAlgorithm Used \\n' + color.END+str(model))\n",
    "        print(color.BOLD +Back.YELLOW + '\\nThe Train Model \\n' + color.END)\n",
    "\n",
    "        \n",
    "        model.fit(train_set,train_set_labels)\n",
    "        predicted_train = model.predict(train_set)\n",
    "        print (metrics.classification_report(train_set_labels,predicted_train))\n",
    "        \n",
    "        plt.figure()\n",
    "        confusion_mat(predicted_train, train_set_labels)\n",
    "\n",
    "        print (\"\\n \")\n",
    "\n",
    "    \n",
    "        ### The Cross Validation evaluation\n",
    "        \n",
    "        scoring = {'accuracy' : make_scorer(accuracy_score), \n",
    "                   'precision' : make_scorer(precision_score),\n",
    "                   'recall' : make_scorer(recall_score), \n",
    "                   'f1_score' : make_scorer(f1_score)}\n",
    "    \n",
    "    \n",
    "        print(color.BOLD +Back.YELLOW + '\\nThe Cross Validation Model\\n' + color.END)\n",
    "        results = cross_validate (estimator=clfr,\n",
    "                                                  X=train_set,\n",
    "                                                  y=train_set_labels,\n",
    "                                                  cv=kfold,\n",
    "                                                  scoring=scoring)\n",
    "\n",
    "        print('Accuracy:', np.mean(results['test_accuracy']))\n",
    "        print('Precision:', np.mean(results['test_precision']))\n",
    "        print('Recall:', np.mean(results['test_recall']))\n",
    "        print('F1:', np.mean(results['test_accuracy']))\n",
    "        print (\"\\n \")\n",
    "\n",
    "\n",
    "        ### The Test evaluation\n",
    "        print(color.BOLD +Back.YELLOW + '\\nThe Test Model\\n' + color.END)\n",
    "    \n",
    "        model.fit(test_vectorized,test_labels)\n",
    "        predicted = model.predict(test_vectorized)\n",
    "        print (metrics.classification_report(test_labels,predicted))\n",
    "\n",
    "        plt.figure()\n",
    "        confusion_mat(predicted, test_labels)\n",
    "        \n",
    "        \n",
    "        metrics.accuracy_score(test_labels,predicted)\n",
    "\n",
    "        print (\"\\n \")\n",
    "\n",
    "    \n",
    "    def All_population():\n",
    "        samples(train_vectorized,train_labels)\n",
    "\n",
    "        \n",
    "        \n",
    "    def Oversampling():\n",
    "        print(color.BOLD +Fore.WHITE+Back.BLUE + '\\nOVERSAMPLING Used \\n' + color.END)\n",
    "        SM = SMOTE(random_state=5)\n",
    "        Over_train,Over_train_labels= SM.fit_resample(train_vectorized,train_labels)\n",
    "\n",
    "        samples(Over_train,Over_train_labels)\n",
    "    \n",
    "    \n",
    "    def Undersampling():\n",
    "        print(color.BOLD +Fore.WHITE+Back.BLUE + '\\nUNDERSAMPLING Used \\n' + color.END)\n",
    "           \n",
    "        undersample = RandomUnderSampler(sampling_strategy=0.5)\n",
    "        Under_train,Under_train_labels = undersample.fit_resample(train_vectorized,train_labels)\n",
    "\n",
    "        #undersample = RandomUnderSampler(sampling_strategy='majority')\n",
    "        \n",
    "        samples(Under_train,Under_train_labels)\n",
    "\n",
    "        \n",
    "    All_population()\n",
    "    Oversampling()\n",
    "    Undersampling()"
   ]
  },
  {
   "cell_type": "code",
   "execution_count": 76,
   "metadata": {
    "scrolled": false
   },
   "outputs": [
    {
     "name": "stdout",
     "output_type": "stream",
     "text": [
      "\u001b[1m\u001b[37m\u001b[44m\n",
      "Algorithm Used \n",
      "\u001b[0mMultinomialNB()\n",
      "\u001b[1m\u001b[43m\n",
      "The Train Model \n",
      "\u001b[0m\n",
      "              precision    recall  f1-score   support\n",
      "\n",
      "         0.0       0.54      0.53      0.54      1743\n",
      "         1.0       0.97      0.97      0.97     24226\n",
      "\n",
      "    accuracy                           0.94     25969\n",
      "   macro avg       0.75      0.75      0.75     25969\n",
      "weighted avg       0.94      0.94      0.94     25969\n",
      "\n",
      "Accuracy: 0.9380030035811929\n",
      "Precision: 0.966386208034315\n",
      "Recall: 0.9671840171716338\n",
      "F1_score: 0.966784948011223\n",
      "\n",
      " \n",
      "\u001b[1m\u001b[43m\n",
      "The Cross Validation Model\n",
      "\u001b[0m\n",
      "Accuracy: 0.9263739629642593\n",
      "Precision: 0.9591062465465656\n",
      "Recall: 0.9621069314745524\n",
      "F1: 0.9263739629642593\n",
      "\n",
      " \n",
      "\u001b[1m\u001b[43m\n",
      "The Test Model\n",
      "\u001b[0m\n",
      "              precision    recall  f1-score   support\n",
      "\n",
      "         0.0       0.61      0.52      0.56       568\n",
      "         1.0       0.97      0.98      0.97      8089\n",
      "\n",
      "    accuracy                           0.95      8657\n",
      "   macro avg       0.79      0.75      0.77      8657\n",
      "weighted avg       0.94      0.95      0.94      8657\n",
      "\n",
      "Accuracy: 0.9468638096338223\n",
      "Precision: 0.9667196867735226\n",
      "Recall: 0.9767585610087773\n",
      "F1_score: 0.9717131964088058\n",
      "\n",
      " \n",
      "\u001b[1m\u001b[37m\u001b[44m\n",
      "OVERSAMPLING Used \n",
      "\u001b[0m\n",
      "\u001b[1m\u001b[37m\u001b[44m\n",
      "Algorithm Used \n",
      "\u001b[0mMultinomialNB()\n",
      "\u001b[1m\u001b[43m\n",
      "The Train Model \n",
      "\u001b[0m\n",
      "              precision    recall  f1-score   support\n",
      "\n",
      "         0.0       0.88      0.88      0.88     24226\n",
      "         1.0       0.88      0.88      0.88     24226\n",
      "\n",
      "    accuracy                           0.88     48452\n",
      "   macro avg       0.88      0.88      0.88     48452\n",
      "weighted avg       0.88      0.88      0.88     48452\n",
      "\n",
      "Accuracy: 0.8792825889540163\n",
      "Precision: 0.8772426817752597\n",
      "Recall: 0.8819862957153471\n",
      "F1_score: 0.8796080933659921\n",
      "\n",
      " \n",
      "\u001b[1m\u001b[43m\n",
      "The Cross Validation Model\n",
      "\u001b[0m\n",
      "Accuracy: 0.8108207038924785\n",
      "Precision: 0.7880278496004902\n",
      "Recall: 0.8747216923694037\n",
      "F1: 0.8108207038924785\n",
      "\n",
      " \n",
      "\u001b[1m\u001b[43m\n",
      "The Test Model\n",
      "\u001b[0m\n",
      "              precision    recall  f1-score   support\n",
      "\n",
      "         0.0       0.61      0.52      0.56       568\n",
      "         1.0       0.97      0.98      0.97      8089\n",
      "\n",
      "    accuracy                           0.95      8657\n",
      "   macro avg       0.79      0.75      0.77      8657\n",
      "weighted avg       0.94      0.95      0.94      8657\n",
      "\n",
      "Accuracy: 0.9468638096338223\n",
      "Precision: 0.9667196867735226\n",
      "Recall: 0.9767585610087773\n",
      "F1_score: 0.9717131964088058\n",
      "\n",
      " \n",
      "\u001b[1m\u001b[37m\u001b[44m\n",
      "UNDERSAMPLING Used \n",
      "\u001b[0m\n",
      "\u001b[1m\u001b[37m\u001b[44m\n",
      "Algorithm Used \n",
      "\u001b[0mMultinomialNB()\n",
      "\u001b[1m\u001b[43m\n",
      "The Train Model \n",
      "\u001b[0m\n",
      "              precision    recall  f1-score   support\n",
      "\n",
      "         0.0       0.87      0.75      0.80      1743\n",
      "         1.0       0.88      0.94      0.91      3486\n",
      "\n",
      "    accuracy                           0.88      5229\n",
      "   macro avg       0.87      0.84      0.86      5229\n",
      "weighted avg       0.88      0.88      0.87      5229\n",
      "\n",
      "Accuracy: 0.8770319372729011\n",
      "Precision: 0.8812013944757308\n",
      "Recall: 0.942627653471027\n",
      "F1_score: 0.9108801108801109\n",
      "\n",
      " \n",
      "\u001b[1m\u001b[43m\n",
      "The Cross Validation Model\n",
      "\u001b[0m\n",
      "Accuracy: 0.8225262448444356\n",
      "Precision: 0.8435019385733952\n",
      "Recall: 0.9016031024602313\n",
      "F1: 0.8225262448444356\n",
      "\n",
      " \n",
      "\u001b[1m\u001b[43m\n",
      "The Test Model\n",
      "\u001b[0m\n",
      "              precision    recall  f1-score   support\n",
      "\n",
      "         0.0       0.61      0.52      0.56       568\n",
      "         1.0       0.97      0.98      0.97      8089\n",
      "\n",
      "    accuracy                           0.95      8657\n",
      "   macro avg       0.79      0.75      0.77      8657\n",
      "weighted avg       0.94      0.95      0.94      8657\n",
      "\n",
      "Accuracy: 0.9468638096338223\n",
      "Precision: 0.9667196867735226\n",
      "Recall: 0.9767585610087773\n",
      "F1_score: 0.9717131964088058\n",
      "\n",
      " \n"
     ]
    },
    {
     "data": {
      "image/png": "[encoded data removed]",
      "text/plain": [
       "<Figure size 432x288 with 2 Axes>"
      ]
     },
     "metadata": {
      "needs_background": "light"
     },
     "output_type": "display_data"
    },
    {
     "data": {
      "image/png": "[encoded data removed]",
      "text/plain": [
       "<Figure size 432x288 with 2 Axes>"
      ]
     },
     "metadata": {
      "needs_background": "light"
     },
     "output_type": "display_data"
    },
    {
     "data": {
      "image/png": "[encoded data removed]",
      "text/plain": [
       "<Figure size 432x288 with 2 Axes>"
      ]
     },
     "metadata": {
      "needs_background": "light"
     },
     "output_type": "display_data"
    },
    {
     "data": {
      "image/png": "[encoded data removed]",
      "text/plain": [
       "<Figure size 432x288 with 2 Axes>"
      ]
     },
     "metadata": {
      "needs_background": "light"
     },
     "output_type": "display_data"
    },
    {
     "data": {
      "image/png": "[encoded data removed]",
      "text/plain": [
       "<Figure size 432x288 with 2 Axes>"
      ]
     },
     "metadata": {
      "needs_background": "light"
     },
     "output_type": "display_data"
    },
    {
     "data": {
      "image/png": "[encoded data removed]",
      "text/plain": [
       "<Figure size 432x288 with 2 Axes>"
      ]
     },
     "metadata": {
      "needs_background": "light"
     },
     "output_type": "display_data"
    }
   ],
   "source": [
    "acc_calc(count_vec , naive_bayes.MultinomialNB())"
   ]
  },
  {
   "cell_type": "code",
   "execution_count": null,
   "metadata": {},
   "outputs": [],
   "source": []
  },
  {
   "cell_type": "code",
   "execution_count": 60,
   "metadata": {},
   "outputs": [],
   "source": [
    "# Let's try using a stemmer to see the difference\n",
    "from nltk.stem.porter import PorterStemmer\n",
    "def tokenize(text):\n",
    "    tokens = nltk.word_tokenize(text)\n",
    "    stems = []\n",
    "    for item in tokens:\n",
    "        stems.append(PorterStemmer().stem(item))\n",
    "    return stems"
   ]
  },
  {
   "cell_type": "code",
   "execution_count": 61,
   "metadata": {},
   "outputs": [],
   "source": [
    "#Apply Stemming \n",
    "Count_vec_n_gram = CountVectorizer( tokenizer=tokenize, min_df=2,ngram_range= (1,2))#.fit(train)\n"
   ]
  },
  {
   "cell_type": "code",
   "execution_count": 134,
   "metadata": {
    "scrolled": false
   },
   "outputs": [
    {
     "name": "stdout",
     "output_type": "stream",
     "text": [
      "\u001b[1m\u001b[37m\u001b[44m\n",
      "Algorithm Used \n",
      "\u001b[0mMultinomialNB(alpha=1.0, class_prior=None, fit_prior=True)\n",
      "\u001b[1m\u001b[43m\n",
      "The Train Model \n",
      "\u001b[0m\n",
      "              precision    recall  f1-score   support\n",
      "\n",
      "         0.0       0.69      0.74      0.71      1743\n",
      "         1.0       0.98      0.98      0.98     24226\n",
      "\n",
      "    accuracy                           0.96     25969\n",
      "   macro avg       0.83      0.86      0.84     25969\n",
      "weighted avg       0.96      0.96      0.96     25969\n",
      "\n",
      "Accuracy: 0.959798220955755\n",
      "Precision: 0.9808745436442085\n",
      "Recall: 0.9759349459258648\n",
      "F1_score: 0.9783985102420857\n",
      "\n",
      " \n",
      "\u001b[1m\u001b[43m\n",
      "The Cross Validation Model\n",
      "\u001b[0m\n",
      "Accuracy: 93.23809978682289\n",
      "Precision: 95.51591315440413\n",
      "Recall: 97.32106433903279\n",
      "F1: 93.23809978682289\n",
      "\n",
      " \n",
      "\u001b[1m\u001b[43m\n",
      "The Test Model\n",
      "\u001b[0m\n",
      "              precision    recall  f1-score   support\n",
      "\n",
      "         0.0       0.80      0.70      0.75       568\n",
      "         1.0       0.98      0.99      0.98      8089\n",
      "\n",
      "    accuracy                           0.97      8657\n",
      "   macro avg       0.89      0.85      0.87      8657\n",
      "weighted avg       0.97      0.97      0.97      8657\n",
      "\n",
      "Accuracy: 0.9691579068961534\n",
      "Precision: 0.9794067173326796\n",
      "Recall: 0.9877611571269626\n",
      "F1_score: 0.9835661968363391\n",
      "\n",
      " \n"
     ]
    },
    {
     "data": {
      "image/png": "[encoded data removed]",
      "text/plain": [
       "<Figure size 432x288 with 2 Axes>"
      ]
     },
     "metadata": {
      "needs_background": "light"
     },
     "output_type": "display_data"
    },
    {
     "data": {
      "image/png": "[encoded data removed]",
      "text/plain": [
       "<Figure size 432x288 with 2 Axes>"
      ]
     },
     "metadata": {
      "needs_background": "light"
     },
     "output_type": "display_data"
    }
   ],
   "source": [
    "acc_calc(Count_vec_n_gram , naive_bayes.MultinomialNB())"
   ]
  },
  {
   "cell_type": "code",
   "execution_count": null,
   "metadata": {},
   "outputs": [],
   "source": []
  },
  {
   "cell_type": "code",
   "execution_count": null,
   "metadata": {},
   "outputs": [],
   "source": [
    "###################"
   ]
  },
  {
   "cell_type": "code",
   "execution_count": 135,
   "metadata": {},
   "outputs": [
    {
     "name": "stdout",
     "output_type": "stream",
     "text": [
      "\u001b[1m\u001b[37m\u001b[44m\n",
      "Algorithm Used \n",
      "\u001b[0mXGBClassifier(base_score=0.5, booster='gbtree', colsample_bylevel=1,\n",
      "              colsample_bynode=1, colsample_bytree=1, gamma=0,\n",
      "              learning_rate=0.06, max_delta_step=0, max_depth=3,\n",
      "              min_child_weight=1, missing=None, n_estimators=600, n_jobs=4,\n",
      "              nthread=None, objective='binary:logistic', random_state=0,\n",
      "              reg_alpha=0, reg_lambda=1, scale_pos_weight=1, seed=None,\n",
      "              silent=None, subsample=1, verbosity=1)\n",
      "\u001b[1m\u001b[43m\n",
      "The Train Model \n",
      "\u001b[0m\n",
      "              precision    recall  f1-score   support\n",
      "\n",
      "         0.0       0.93      0.31      0.46      1743\n",
      "         1.0       0.95      1.00      0.97     24226\n",
      "\n",
      "    accuracy                           0.95     25969\n",
      "   macro avg       0.94      0.65      0.72     25969\n",
      "weighted avg       0.95      0.95      0.94     25969\n",
      "\n",
      "Accuracy: 0.952058223266202\n",
      "Precision: 0.9525065963060686\n",
      "Recall: 0.9983901593329481\n",
      "F1_score: 0.9749088050948226\n",
      "\n",
      " \n",
      "\u001b[1m\u001b[43m\n",
      "The Cross Validation Model\n",
      "\u001b[0m\n",
      "Accuracy: 93.23809978682289\n",
      "Precision: 95.51591315440413\n",
      "Recall: 97.32106433903279\n",
      "F1: 93.23809978682289\n",
      "\n",
      " \n",
      "\u001b[1m\u001b[43m\n",
      "The Test Model\n",
      "\u001b[0m\n",
      "              precision    recall  f1-score   support\n",
      "\n",
      "         0.0       0.98      0.39      0.55       568\n",
      "         1.0       0.96      1.00      0.98      8089\n",
      "\n",
      "    accuracy                           0.96      8657\n",
      "   macro avg       0.97      0.69      0.77      8657\n",
      "weighted avg       0.96      0.96      0.95      8657\n",
      "\n",
      "Accuracy: 0.9591082361095068\n",
      "Precision: 0.9586149650183802\n",
      "Recall: 0.9993818766225738\n",
      "F1_score: 0.978574022515434\n",
      "\n",
      " \n"
     ]
    },
    {
     "data": {
      "image/png": "[encoded data removed]",
      "text/plain": [
       "<Figure size 432x288 with 2 Axes>"
      ]
     },
     "metadata": {
      "needs_background": "light"
     },
     "output_type": "display_data"
    },
    {
     "data": {
      "image/png": "[encoded data removed]",
      "text/plain": [
       "<Figure size 432x288 with 2 Axes>"
      ]
     },
     "metadata": {
      "needs_background": "light"
     },
     "output_type": "display_data"
    }
   ],
   "source": [
    "# Let's try with XGBOOST\n",
    "\n",
    "acc_calc(Count_vec_n_gram , xgb.XGBClassifier(n_jobs=4,n_estimators=600, learning_rate=0.06))\n"
   ]
  },
  {
   "cell_type": "code",
   "execution_count": 136,
   "metadata": {},
   "outputs": [],
   "source": [
    "count_vec2 = CountVectorizer(min_df=5, stop_words='english')\n"
   ]
  },
  {
   "cell_type": "code",
   "execution_count": 139,
   "metadata": {},
   "outputs": [
    {
     "name": "stdout",
     "output_type": "stream",
     "text": [
      "\u001b[1m\u001b[37m\u001b[44m\n",
      "Algorithm Used \n",
      "\u001b[0mXGBClassifier(base_score=0.5, booster='gbtree', colsample_bylevel=1,\n",
      "              colsample_bynode=1, colsample_bytree=1, gamma=0,\n",
      "              learning_rate=0.06, max_delta_step=0, max_depth=3,\n",
      "              min_child_weight=1, missing=None, n_estimators=600, n_jobs=4,\n",
      "              nthread=None, objective='binary:logistic', random_state=0,\n",
      "              reg_alpha=0, reg_lambda=1, scale_pos_weight=1, seed=None,\n",
      "              silent=None, subsample=1, verbosity=1)\n",
      "\u001b[1m\u001b[43m\n",
      "The Train Model \n",
      "\u001b[0m\n",
      "              precision    recall  f1-score   support\n",
      "\n",
      "         0.0       0.91      0.21      0.35      1743\n",
      "         1.0       0.95      1.00      0.97     24226\n",
      "\n",
      "    accuracy                           0.95     25969\n",
      "   macro avg       0.93      0.61      0.66     25969\n",
      "weighted avg       0.94      0.95      0.93     25969\n",
      "\n",
      "Accuracy: 0.9458585236243213\n",
      "Precision: 0.9464355583378982\n",
      "Recall: 0.9984727152645918\n",
      "F1_score: 0.9717579945363973\n",
      "\n",
      " \n",
      "\u001b[1m\u001b[43m\n",
      "The Cross Validation Model\n",
      "\u001b[0m\n",
      "Accuracy: 93.23809978682289\n",
      "Precision: 95.51591315440413\n",
      "Recall: 97.32106433903279\n",
      "F1: 93.23809978682289\n",
      "\n",
      " \n",
      "\u001b[1m\u001b[43m\n",
      "The Test Model\n",
      "\u001b[0m\n",
      "              precision    recall  f1-score   support\n",
      "\n",
      "         0.0       0.94      0.27      0.42       568\n",
      "         1.0       0.95      1.00      0.97      8089\n",
      "\n",
      "    accuracy                           0.95      8657\n",
      "   macro avg       0.94      0.63      0.70      8657\n",
      "weighted avg       0.95      0.95      0.94      8657\n",
      "\n",
      "Accuracy: 0.9509067806399446\n",
      "Precision: 0.951141982575936\n",
      "Recall: 0.9987637532451478\n",
      "F1_score: 0.974371344147621\n",
      "\n",
      " \n"
     ]
    },
    {
     "data": {
      "image/png": "[encoded data removed]",
      "text/plain": [
       "<Figure size 432x288 with 2 Axes>"
      ]
     },
     "metadata": {
      "needs_background": "light"
     },
     "output_type": "display_data"
    },
    {
     "data": {
      "image/png": "[encoded data removed]",
      "text/plain": [
       "<Figure size 432x288 with 2 Axes>"
      ]
     },
     "metadata": {
      "needs_background": "light"
     },
     "output_type": "display_data"
    }
   ],
   "source": [
    "acc_calc(count_vec2, xgb.XGBClassifier(n_jobs=4,n_estimators=600, learning_rate=0.06))\n"
   ]
  },
  {
   "cell_type": "code",
   "execution_count": 144,
   "metadata": {
    "scrolled": true
   },
   "outputs": [
    {
     "name": "stdout",
     "output_type": "stream",
     "text": [
      "\u001b[1m\u001b[37m\u001b[44m\n",
      "Algorithm Used \n",
      "\u001b[0mXGBClassifier(base_score=0.5, booster='gbtree', colsample_bylevel=1,\n",
      "              colsample_bynode=1, colsample_bytree=1, early_stopping_rounds=50,\n",
      "              gamma=0, learning_rate=0.06, max_delta_step=0, max_depth=3,\n",
      "              min_child_weight=1, missing=None, n_estimators=600, n_jobs=4,\n",
      "              nthread=None, objective='binary:logistic', random_state=0,\n",
      "              reg_alpha=0, reg_lambda=1, scale_pos_weight=1, seed=None,\n",
      "              silent=None, subsample=1, verbosity=1)\n",
      "\u001b[1m\u001b[43m\n",
      "The Train Model \n",
      "\u001b[0m\n",
      "              precision    recall  f1-score   support\n",
      "\n",
      "         0.0       0.91      0.21      0.35      1743\n",
      "         1.0       0.95      1.00      0.97     24226\n",
      "\n",
      "    accuracy                           0.95     25969\n",
      "   macro avg       0.93      0.61      0.66     25969\n",
      "weighted avg       0.94      0.95      0.93     25969\n",
      "\n",
      "Accuracy: 0.9458585236243213\n",
      "Precision: 0.9464355583378982\n",
      "Recall: 0.9984727152645918\n",
      "F1_score: 0.9717579945363973\n",
      "\n",
      " \n",
      "\u001b[1m\u001b[43m\n",
      "The Cross Validation Model\n",
      "\u001b[0m\n",
      "Accuracy: 93.23809978682289\n",
      "Precision: 95.51591315440413\n",
      "Recall: 97.32106433903279\n",
      "F1: 93.23809978682289\n",
      "\n",
      " \n",
      "\u001b[1m\u001b[43m\n",
      "The Test Model\n",
      "\u001b[0m\n",
      "              precision    recall  f1-score   support\n",
      "\n",
      "         0.0       0.94      0.27      0.42       568\n",
      "         1.0       0.95      1.00      0.97      8089\n",
      "\n",
      "    accuracy                           0.95      8657\n",
      "   macro avg       0.94      0.63      0.70      8657\n",
      "weighted avg       0.95      0.95      0.94      8657\n",
      "\n",
      "Accuracy: 0.9509067806399446\n",
      "Precision: 0.951141982575936\n",
      "Recall: 0.9987637532451478\n",
      "F1_score: 0.974371344147621\n",
      "\n",
      " \n"
     ]
    },
    {
     "data": {
      "image/png": "[encoded data removed]",
      "text/plain": [
       "<Figure size 432x288 with 2 Axes>"
      ]
     },
     "metadata": {
      "needs_background": "light"
     },
     "output_type": "display_data"
    },
    {
     "data": {
      "image/png": "[encoded data removed]",
      "text/plain": [
       "<Figure size 432x288 with 2 Axes>"
      ]
     },
     "metadata": {
      "needs_background": "light"
     },
     "output_type": "display_data"
    }
   ],
   "source": [
    "# Let's try early stopping adding to the Cross Validation to ensure no overfitting\n",
    "acc_calc(count_vec2, xgb.XGBClassifier(n_jobs=4,n_estimators=600, learning_rate=0.06,early_stopping_rounds=50))\n"
   ]
  },
  {
   "cell_type": "code",
   "execution_count": 145,
   "metadata": {},
   "outputs": [
    {
     "name": "stdout",
     "output_type": "stream",
     "text": [
      "\u001b[1m\u001b[37m\u001b[44m\n",
      "Algorithm Used \n",
      "\u001b[0mRandomForestClassifier(bootstrap=True, ccp_alpha=0.0, class_weight=None,\n",
      "                       criterion='gini', max_depth=None, max_features='auto',\n",
      "                       max_leaf_nodes=None, max_samples=None,\n",
      "                       min_impurity_decrease=0.0, min_impurity_split=None,\n",
      "                       min_samples_leaf=1, min_samples_split=2,\n",
      "                       min_weight_fraction_leaf=0.0, n_estimators=50,\n",
      "                       n_jobs=None, oob_score=False, random_state=None,\n",
      "                       verbose=0, warm_start=False)\n",
      "\u001b[1m\u001b[43m\n",
      "The Train Model \n",
      "\u001b[0m\n",
      "              precision    recall  f1-score   support\n",
      "\n",
      "         0.0       1.00      1.00      1.00      1743\n",
      "         1.0       1.00      1.00      1.00     24226\n",
      "\n",
      "    accuracy                           1.00     25969\n",
      "   macro avg       1.00      1.00      1.00     25969\n",
      "weighted avg       1.00      1.00      1.00     25969\n",
      "\n",
      "Accuracy: 0.9997689552928491\n",
      "Precision: 0.9997523935292175\n",
      "Recall: 1.0\n",
      "F1_score: 0.9998761814354699\n",
      "\n",
      " \n",
      "\u001b[1m\u001b[43m\n",
      "The Cross Validation Model\n",
      "\u001b[0m\n",
      "Accuracy: 93.23809978682289\n",
      "Precision: 95.51591315440413\n",
      "Recall: 97.32106433903279\n",
      "F1: 93.23809978682289\n",
      "\n",
      " \n",
      "\u001b[1m\u001b[43m\n",
      "The Test Model\n",
      "\u001b[0m\n",
      "              precision    recall  f1-score   support\n",
      "\n",
      "         0.0       1.00      1.00      1.00       568\n",
      "         1.0       1.00      1.00      1.00      8089\n",
      "\n",
      "    accuracy                           1.00      8657\n",
      "   macro avg       1.00      1.00      1.00      8657\n",
      "weighted avg       1.00      1.00      1.00      8657\n",
      "\n",
      "Accuracy: 0.9997689730853645\n",
      "Precision: 0.9997528117661599\n",
      "Recall: 1.0\n",
      "F1_score: 0.999876390605686\n",
      "\n",
      " \n"
     ]
    },
    {
     "data": {
      "image/png": "[encoded data removed]",
      "text/plain": [
       "<Figure size 432x288 with 2 Axes>"
      ]
     },
     "metadata": {
      "needs_background": "light"
     },
     "output_type": "display_data"
    },
    {
     "data": {
      "image/png": "[encoded data removed]",
      "text/plain": [
       "<Figure size 432x288 with 2 Axes>"
      ]
     },
     "metadata": {
      "needs_background": "light"
     },
     "output_type": "display_data"
    }
   ],
   "source": [
    "acc_calc(count_vec2, RandomForestClassifier(n_estimators=50))\n"
   ]
  },
  {
   "cell_type": "code",
   "execution_count": null,
   "metadata": {},
   "outputs": [],
   "source": []
  },
  {
   "cell_type": "code",
   "execution_count": null,
   "metadata": {},
   "outputs": [],
   "source": [
    "# words = train, test, train_labels, test_labels\n",
    "\n",
    "vectorizer = TfidfVectorizer()#.fit(train)\n",
    "#print (len(vectorizer.get_feature_names()))\n",
    "acc_calc()"
   ]
  },
  {
   "cell_type": "code",
   "execution_count": null,
   "metadata": {},
   "outputs": [],
   "source": [
    "vectorizer = TfidfVectorizer( min_df=4,  stop_words='english',lowercase=True ).fit(train)\n",
    "acc_calc()\n"
   ]
  },
  {
   "cell_type": "code",
   "execution_count": null,
   "metadata": {},
   "outputs": [],
   "source": [
    "df.info()"
   ]
  },
  {
   "cell_type": "code",
   "execution_count": null,
   "metadata": {},
   "outputs": [],
   "source": [
    "import wordcloud\n",
    "from wordcloud import WordCloud, STOPWORDS\n",
    "import matplotlib as mpl\n",
    "import matplotlib.pyplot as plt"
   ]
  },
  {
   "cell_type": "code",
   "execution_count": null,
   "metadata": {},
   "outputs": [],
   "source": [
    "rate = df['reviews.rating']==1\n",
    "stopwords = set(STOPWORDS)\n",
    "wordcloud = WordCloud(background_color='white').generate(str(df[rate]['reviews.text']))\n",
    "\n",
    "print(wordcloud)\n",
    "fig = plt.figure(1)\n",
    "plt.imshow(wordcloud)\n",
    "plt.axis('off')\n",
    "plt.show()\n",
    "fig.savefig(\"word1.png\", dpi=1200)"
   ]
  },
  {
   "cell_type": "code",
   "execution_count": null,
   "metadata": {},
   "outputs": [],
   "source": [
    "from sklearn.model_selection import KFold, StratifiedKFold\n",
    "kf = StratifiedKFold(n_splits=5, shuffle=True)\n",
    "arr = []\n",
    "for train_idx, val_idx in kf.split(df[\"reviews.text\"], df[\"reviews.rating\"]):\n",
    "    train_data = df[\"reviews.text\"].iloc[train_idx]\n",
    "    train_label = df[\"reviews.rating\"].iloc[train_idx]\n",
    "    val_data = df[\"reviews.text\"].iloc[val_idx]\n",
    "    val_label = df[\"reviews.rating\"].iloc[val_idx]\n",
    "    vectorizer = CountVectorizer()\n",
    "    X_train = vectorizer.fit_transform(train_data)\n",
    "    X_val = vectorizer.transform(val_data)\n",
    "    clfr = naive_bayes.MultinomialNB()\n",
    "    clfr.fit(X_train,train_label)\n",
    "    predicted = clfr.predict(X_val)\n",
    "    acc = metrics.accuracy_score(val_label,predicted)  \n",
    "    arr.append(acc)\n",
    "    print('accuracy = '+str(acc*100)+'%')\n"
   ]
  },
  {
   "cell_type": "code",
   "execution_count": null,
   "metadata": {},
   "outputs": [],
   "source": [
    "print('avg accuracy = '+str(sum(arr)/5*100)+'%')"
   ]
  },
  {
   "cell_type": "code",
   "execution_count": null,
   "metadata": {},
   "outputs": [],
   "source": [
    "def plot_confusion_matrix(cm, classes,\n",
    "                          normalize=False,\n",
    "                          title = 'Confusion matrix',\n",
    "                          cmap = plt.cm.ocean):\n",
    "    \"\"\"\n",
    "    Create a confusion matrix plot for 'good' and 'bad' rating values \n",
    "    \"\"\"\n",
    "    if normalize:\n",
    "        cm = cm.astype('float') / cm.sum(axis = 1)[:, np.newaxis]\n",
    "    plt.imshow(cm, interpolation = 'nearest', cmap = cmap)\n",
    "    plt.title(title, fontsize = 20)\n",
    "    plt.colorbar()\n",
    "    tick_marks = np.arange(len(classes))\n",
    "    plt.xticks(tick_marks, classes, fontsize = 20)\n",
    "    plt.yticks(tick_marks, classes, fontsize = 20)\n",
    "    \n",
    "    fmt = '.2f' if normalize else 'd'\n",
    "    thresh = cm.max() / 2.\n",
    "\n",
    "    for i, j in itertools.product(range(cm.shape[0]), range(cm.shape[1])):\n",
    "        plt.text(j, i, format(cm[i, j], fmt), horizontalalignment = \"center\", \n",
    "                 color = \"white\" if cm[i, j] < thresh else \"black\", fontsize = 40)\n",
    "    \n",
    "    plt.tight_layout()\n",
    "    plt.ylabel('True Label', fontsize = 30)\n",
    "    plt.xlabel('Predicted Label', fontsize = 30)\n",
    "\n",
    "    return plt"
   ]
  },
  {
   "cell_type": "code",
   "execution_count": null,
   "metadata": {},
   "outputs": [],
   "source": [
    "def disp_confusion_matrix(y_pred, model_name, vector = 'CounterVectorizing'):\n",
    "    \"\"\"\n",
    "    Display confusion matrix for selected model with countVectorizer\n",
    "    \"\"\"\n",
    "    cm = confusion_matrix(y_test, y_pred)\n",
    "    fig = plt.figure(figsize=(10, 10))\n",
    "    plot = plot_confusion_matrix(cm, classes=['Bad','Good'], normalize=False, \n",
    "                                 title = model_name + \" \" + 'with' + \" \" + vector + \" \"+ '\\nConfusion Matrix')\n",
    "    plt.show()"
   ]
  },
  {
   "cell_type": "code",
   "execution_count": null,
   "metadata": {},
   "outputs": [],
   "source": [
    "vectorizer = CountVectorizer(min_df=3 ).fit(train)"
   ]
  },
  {
   "cell_type": "code",
   "execution_count": null,
   "metadata": {},
   "outputs": [],
   "source": [
    "count_vect = CountVectorizer(ngram_range=(1,1))\n",
    "count_vect_train = count_vect.fit_transform(train)\n",
    "count_vect_train = count_vect_train.toarray()\n",
    "count_vect_test = count_vect.transform(test)\n",
    "count_vect_test = count_vect_test.toarray()"
   ]
  },
  {
   "cell_type": "code",
   "execution_count": null,
   "metadata": {},
   "outputs": [],
   "source": [
    "# Assign feature names of vector into a variable\n",
    "vocab = count_vect.get_feature_names()"
   ]
  },
  {
   "cell_type": "code",
   "execution_count": null,
   "metadata": {},
   "outputs": [],
   "source": [
    "# Dataframe for train countvectorizer dataset\n",
    "pd.DataFrame(count_vect_train, columns = vocab).head()"
   ]
  },
  {
   "cell_type": "code",
   "execution_count": null,
   "metadata": {},
   "outputs": [],
   "source": [
    "def modeling(Model, Xtrain = count_vect_train, Xtest = count_vect_test):\n",
    "    \"\"\"\n",
    "    This function apply countVectorizer with machine learning algorithms. \n",
    "    \"\"\"\n",
    "    \n",
    "    # Instantiate the classifier: model\n",
    "    model = Model\n",
    "    \n",
    "    # Fitting classifier to the Training set (all features)\n",
    "    model.fit(Xtrain, y_train)\n",
    "    \n",
    "    global y_pred\n",
    "    # Predicting the Test set results\n",
    "    y_pred = model.predict(Xtest)\n",
    "    \n",
    "    # Assign f1 score to a variable\n",
    "    score = f1_score(y_test, y_pred, average = 'weighted')\n",
    "    \n",
    "    # Printing evaluation metric (f1-score) \n",
    "    print(\"f1 score: {}\".format(score))"
   ]
  },
  {
   "cell_type": "code",
   "execution_count": null,
   "metadata": {},
   "outputs": [],
   "source": [
    "clf = DummyClassifier(strategy = 'stratified', random_state =42)\n",
    "clf.fit(train, train_labels)\n",
    "y_pred = clf.predict(train)\n",
    "score = f1_score(train_labels,  y_pred , average = 'weighted')\n",
    "\n",
    "# Printing evaluation metric (f1-score)\n",
    "print(\"f1 score: {}\".format(score))"
   ]
  },
  {
   "cell_type": "code",
   "execution_count": null,
   "metadata": {},
   "outputs": [],
   "source": [
    "# Compute and print the classification report\n",
    "print(classification_report(train_labels, y_pred))"
   ]
  },
  {
   "cell_type": "markdown",
   "metadata": {},
   "source": [
    "Let's try using word2vec"
   ]
  },
  {
   "cell_type": "code",
   "execution_count": null,
   "metadata": {},
   "outputs": [],
   "source": [
    "from gensim.models import KeyedVectors"
   ]
  },
  {
   "cell_type": "code",
   "execution_count": null,
   "metadata": {},
   "outputs": [],
   "source": [
    "location = 'E:/Amazon/GoogleNews-vectors-negative300.bin/'\n",
    "\n",
    "word2vec_model = KeyedVectors.load_word2vec_format(location + 'GoogleNews-vectors-negative300.bin', binary=True)"
   ]
  },
  {
   "cell_type": "code",
   "execution_count": null,
   "metadata": {},
   "outputs": [],
   "source": [
    "df[:2]"
   ]
  },
  {
   "cell_type": "code",
   "execution_count": null,
   "metadata": {},
   "outputs": [],
   "source": [
    "### Convert tweets to arrays\n",
    "reviews_raw_arr = np.array(df)\n",
    "reviews = reviews_raw_arr"
   ]
  },
  {
   "cell_type": "code",
   "execution_count": null,
   "metadata": {},
   "outputs": [],
   "source": [
    "reviews[0]"
   ]
  },
  {
   "cell_type": "code",
   "execution_count": null,
   "metadata": {},
   "outputs": [],
   "source": [
    "#### convert the model into vectors to search for the words in the Model\n",
    "\n",
    "word_vectors = word2vec_model.wv\n",
    "\n",
    "All_reviews_vector = []\n",
    "reviewNo = 0\n",
    "c = 0\n",
    "\n",
    "for review in reviews: \n",
    "    counter = 0\n",
    "    review_vector = []\n",
    "    review_vector_shape = []\n",
    "    words = review[1].split()\n",
    "    \n",
    "    for word in words:\n",
    "        if word in word_vectors.vocab:\n",
    "            review_vector.append(word2vec_model[word])\n",
    "            counter +=1\n",
    "    review_vector = np.array(review_vector)\n",
    "    review_vector.reshape(-1,1)\n",
    "    review_vector_shape = review_vector\n",
    "    \n",
    "    \n",
    "    if counter != 0:\n",
    "        All_reviews_vector.append (sum (review_vector_shape)/counter)\n",
    "    \n",
    "    else:        \n",
    "        review_vector_shape\n",
    "        All_reviews_vector.append (np.zeros(300))\n"
   ]
  },
  {
   "cell_type": "code",
   "execution_count": null,
   "metadata": {},
   "outputs": [],
   "source": [
    "All_reviews_vector = np.array(All_reviews_vector)\n",
    "All_reviews_vector.shape"
   ]
  },
  {
   "cell_type": "code",
   "execution_count": null,
   "metadata": {},
   "outputs": [],
   "source": [
    "from sklearn.preprocessing import MinMaxScaler"
   ]
  },
  {
   "cell_type": "code",
   "execution_count": null,
   "metadata": {},
   "outputs": [],
   "source": [
    "scaler = MinMaxScaler()\n",
    "scaler.fit(All_reviews_vector)\n",
    "my_reviews = scaler.transform(All_reviews_vector)\n"
   ]
  },
  {
   "cell_type": "code",
   "execution_count": null,
   "metadata": {},
   "outputs": [],
   "source": [
    "# model.fit(X_train, y_train, early_stopping_rounds=10, eval_metric=\"logloss\", eval_set=eval_set, verbose=True)"
   ]
  },
  {
   "cell_type": "code",
   "execution_count": null,
   "metadata": {},
   "outputs": [],
   "source": [
    "reviews_train,reviews_test,train_labels,test_labels = train_test_split(my_reviews,                   \n",
    "                                                 df['reviews.rating'], test_size=0.30,\n",
    "                                                 random_state=0)"
   ]
  },
  {
   "cell_type": "code",
   "execution_count": null,
   "metadata": {},
   "outputs": [],
   "source": [
    "#eval_set = [(reviews_test, test_labels)]\n",
    "fit_params={'early_stopping_rounds': 10, \n",
    "            'eval_metric': 'logloss',\n",
    "            'verbose': False,\n",
    "            'eval_set': [[reviews_test, test_labels]]}\n",
    "\n",
    "clfr = naive_bayes.MultinomialNB()\n",
    "clfr.fit(reviews_train,train_labels)\n",
    "\n",
    "predicted = clfr.predict(reviews_test)\n",
    "acc = metrics.accuracy_score(test_labels,predicted)\n",
    "print ('accuracy = '+str(acc*100)+'%')\n",
    "print (metrics.classification_report(test_labels,predicted))"
   ]
  },
  {
   "cell_type": "code",
   "execution_count": null,
   "metadata": {},
   "outputs": [],
   "source": []
  },
  {
   "cell_type": "code",
   "execution_count": null,
   "metadata": {},
   "outputs": [],
   "source": [
    "xgb_model = xgb.XGBRegressor(n_jobs=4,n_estimators=600, learning_rate=0.06)\n",
    "\n",
    "fit_params={'early_stopping_rounds': 10, \n",
    "            'eval_metric': 'mae',\n",
    "            'verbose': False,\n",
    "            'eval_set': [[reviews_test, test_labels]]}\n",
    "\n",
    "xgb_cv = cross_val_score(xgb_model, reviews_train, train_labels, \n",
    "                         cv = 5, \n",
    "                         scoring = 'neg_mean_absolute_error',\n",
    "                         fit_params = fit_params)"
   ]
  },
  {
   "cell_type": "code",
   "execution_count": null,
   "metadata": {},
   "outputs": [],
   "source": [
    "print (xgb_cv)"
   ]
  },
  {
   "cell_type": "code",
   "execution_count": null,
   "metadata": {},
   "outputs": [],
   "source": [
    "XGBClassifier_model = xgb.XGBClassifier(n_jobs=4,n_estimators=600, learning_rate=0.06)"
   ]
  },
  {
   "cell_type": "code",
   "execution_count": null,
   "metadata": {},
   "outputs": [],
   "source": [
    "fit_params={'early_stopping_rounds': 10, \n",
    "            'eval_metric': 'mae',\n",
    "            'verbose': False,\n",
    "            'eval_set': [[reviews_test, test_labels]]}"
   ]
  },
  {
   "cell_type": "code",
   "execution_count": null,
   "metadata": {},
   "outputs": [],
   "source": [
    "from sklearn.model_selection import cross_validate\n",
    "from sklearn.datasets import  load_iris\n",
    "from sklearn.svm import SVC\n",
    "\n",
    "#iris = load_iris()\n",
    "#clf = SVC()\n",
    "scoring = {'acc': 'accuracy',\n",
    "           'precision': 'precision',\n",
    "           'recall': 'recall',\n",
    "           'f1' : 'f1'}\n",
    "\n",
    "#scores = cross_validate(clf, iris.data, iris.target, scoring=scoring,\n",
    "#                         cv=5, return_train_score=True)\n",
    "\n",
    "\n",
    "scores = cross_validate(XGBClassifier_model, reviews_train, train_labels, \n",
    "                         cv = 5, \n",
    "                         scoring = scoring,\n",
    "                         fit_params = fit_params)#.mean()\n",
    "\n",
    "\n",
    "#print(scores.keys())\n",
    "#print(scores['test_acc'])  \n"
   ]
  },
  {
   "cell_type": "code",
   "execution_count": null,
   "metadata": {},
   "outputs": [],
   "source": [
    "print(scores.keys())\n",
    "print(scores['test_acc'])  "
   ]
  },
  {
   "cell_type": "code",
   "execution_count": null,
   "metadata": {},
   "outputs": [],
   "source": [
    "#recall = cross_val_score(XGBClassifier_model, reviews_train, train_labels, \n",
    "#                         cv = 5, \n",
    "#                         scoring = 'recall',\n",
    "#                         fit_params = fit_params).mean()\n",
    "\n",
    "#precision = cross_val_score(XGBClassifier_model, reviews_train, train_labels, \n",
    "#                         cv = 5, \n",
    "#                         scoring = 'precision',\n",
    "#                         fit_params = fit_params).mean()\n",
    "\n",
    "#accuracy = cross_val_score(XGBClassifier_model, reviews_train, train_labels, \n",
    "#                         cv = 5, \n",
    "#                         scoring = 'accuracy',\n",
    "#                         fit_params = fit_params).mean()\n",
    "\n",
    "#f1_score = cross_val_score(XGBClassifier_model, reviews_train, train_labels, \n",
    "#                         cv = 5, \n",
    "#                         scoring = 'f1_score',\n",
    "#                         fit_params = fit_params).mean()"
   ]
  },
  {
   "cell_type": "code",
   "execution_count": null,
   "metadata": {},
   "outputs": [],
   "source": [
    "def confusion_mat(predictions, labels):\n",
    "    \"\"\"\n",
    "    predictor : Predictor object of model\n",
    "    features: Input features to model\n",
    "    label: Ground truth target values\n",
    "    \"\"\"\n",
    "\n",
    "    accuracy = (predictions == labels).sum() / labels.shape[0]\n",
    "    print(f'Accuracy: {accuracy}')\n",
    "    \n",
    "    precision, recall, f1_score, _ = precision_recall_fscore_support(labels, predictions, average = 'binary')\n",
    "    print(f'Precision: {precision}')\n",
    "    print(f'Recall: {recall}')\n",
    "    print(f'F1_score: {f1_score}')\n",
    "    \n",
    "    confusion_matrix = pd.crosstab(index=labels, columns=predictions, rownames=['Actual'], colnames=['Predicted']).astype(int)\n",
    "    sns.heatmap(confusion_matrix, annot=True, fmt='.0f', cmap=\"YlGnBu\").set_title('Confusion Matrix')"
   ]
  },
  {
   "cell_type": "code",
   "execution_count": null,
   "metadata": {},
   "outputs": [],
   "source": []
  },
  {
   "cell_type": "code",
   "execution_count": null,
   "metadata": {},
   "outputs": [],
   "source": [
    "print ('accuracy': accuracy, 'f1': f1_score, 'precision': precision, 'recall': recall)\n",
    "\n",
    "\n",
    "#RandomForestClassifier(n_jobs=4)\n",
    "#rfc.fit(X_train, Y_train)\n",
    "\n"
   ]
  },
  {
   "cell_type": "code",
   "execution_count": null,
   "metadata": {},
   "outputs": [],
   "source": []
  },
  {
   "cell_type": "code",
   "execution_count": null,
   "metadata": {},
   "outputs": [],
   "source": []
  }
 ],
 "metadata": {
  "kernelspec": {
   "display_name": "Python 3",
   "language": "python",
   "name": "python3"
  },
  "language_info": {
   "codemirror_mode": {
    "name": "ipython",
    "version": 3
   },
   "file_extension": ".py",
   "mimetype": "text/x-python",
   "name": "python",
   "nbconvert_exporter": "python",
   "pygments_lexer": "ipython3",
   "version": "3.7.1"
  }
 },
 "nbformat": 4,
 "nbformat_minor": 4
}
